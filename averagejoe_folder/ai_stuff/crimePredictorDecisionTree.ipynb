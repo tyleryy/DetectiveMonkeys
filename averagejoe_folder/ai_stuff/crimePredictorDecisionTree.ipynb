{
 "cells": [
  {
   "cell_type": "code",
   "execution_count": 21,
   "metadata": {},
   "outputs": [],
   "source": [
    "import sklearn as skl\n",
    "import pandas as pd\n",
    "import plotly.express as px\n",
    "from pathlib import Path\n",
    "import numpy as np\n",
    "from sklearn.ensemble import RandomForestClassifier\n",
    "from sklearn.datasets import make_classification\n",
    "from sklearn.model_selection import train_test_split"
   ]
  },
  {
   "cell_type": "code",
   "execution_count": 22,
   "metadata": {},
   "outputs": [],
   "source": [
    "criminalLogsPath = Path.cwd().parent.parent / 'actes-criminels.csv'\n",
    "df = pd.read_csv(criminalLogsPath)\n",
    "df = df.dropna(subset=['PDQ'])"
   ]
  },
  {
   "cell_type": "code",
   "execution_count": 23,
   "metadata": {},
   "outputs": [],
   "source": [
    "def getMonth(str):\n",
    "    return str.split('-')[1]\n",
    "def getYear(str):\n",
    "    return str.split('-')[0]\n",
    "def getDay(str):\n",
    "    return str.split('-')[2]\n",
    "df['YEAR'] = df['DATE'].apply(getYear)\n",
    "df['MONTH'] = df['DATE'].apply(getMonth)\n",
    "df['DAY'] = df['DATE'].apply(getDay)\n",
    "\n",
    "df = df.loc[:, ['CATEGORIE', 'QUART', 'PDQ', 'YEAR', 'MONTH', 'DAY']]"
   ]
  },
  {
   "cell_type": "code",
   "execution_count": 24,
   "metadata": {},
   "outputs": [],
   "source": [
    "y = df['CATEGORIE']\n",
    "X = df.loc[:, ['YEAR', 'MONTH', 'DAY', 'QUART', 'PDQ']]\n",
    "\n",
    "X['JOUR'] = df['QUART'].apply(lambda x : x == 'jour')\n",
    "X['SOIR'] = df['QUART'].apply(lambda x : x == 'soir')\n",
    "X['NUIT'] = df['QUART'].apply(lambda x : x == 'nuit')\n",
    "\n",
    "del X['QUART']"
   ]
  },
  {
   "cell_type": "code",
   "execution_count": 25,
   "metadata": {},
   "outputs": [],
   "source": [
    "uniques = X['PDQ'].unique()\n",
    "\n",
    "for pdq in uniques:\n",
    "\n",
    "    X[str(pdq)] = df['PDQ'].apply(lambda x : x == pdq)\n",
    "\n",
    "del X['PDQ']"
   ]
  },
  {
   "cell_type": "code",
   "execution_count": 27,
   "metadata": {},
   "outputs": [],
   "source": [
    "X_train, X_test, y_train, y_test = train_test_split(X, y, test_size=0.2, random_state=1234)"
   ]
  },
  {
   "cell_type": "code",
   "execution_count": 33,
   "metadata": {},
   "outputs": [
    {
     "name": "stdout",
     "output_type": "stream",
     "text": [
      "0.36195415287755267\n"
     ]
    }
   ],
   "source": [
    "clf = RandomForestClassifier(criterion='gini', max_depth=17, random_state=1234)\n",
    "clf.fit(X_train, y_train)\n",
    "print(clf.score(X_test, y_test))"
   ]
  }
 ],
 "metadata": {
  "kernelspec": {
   "display_name": "monkus",
   "language": "python",
   "name": "python3"
  },
  "language_info": {
   "codemirror_mode": {
    "name": "ipython",
    "version": 3
   },
   "file_extension": ".py",
   "mimetype": "text/x-python",
   "name": "python",
   "nbconvert_exporter": "python",
   "pygments_lexer": "ipython3",
   "version": "3.9.16"
  },
  "orig_nbformat": 4
 },
 "nbformat": 4,
 "nbformat_minor": 2
}
