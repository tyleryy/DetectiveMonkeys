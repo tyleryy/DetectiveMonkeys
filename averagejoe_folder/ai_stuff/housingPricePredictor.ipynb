{
 "cells": [
  {
   "cell_type": "code",
   "execution_count": 15,
   "metadata": {},
   "outputs": [],
   "source": [
    "import sklearn as skl\n",
    "import pandas as pd\n",
    "import plotly.express as px\n",
    "from pathlib import Path\n",
    "import numpy as np\n",
    "from sklearn.ensemble import RandomForestClassifier\n",
    "from sklearn.neighbors import KNeighborsClassifier\n",
    "from sklearn.neighbors import KNeighborsRegressor\n",
    "from sklearn.linear_model import LinearRegression\n",
    "from sklearn.tree import DecisionTreeRegressor\n",
    "\n",
    "from sklearn.datasets import make_classification\n",
    "from sklearn.model_selection import train_test_split\n",
    "from sklearn.metrics import accuracy_score"
   ]
  },
  {
   "cell_type": "code",
   "execution_count": 16,
   "metadata": {},
   "outputs": [],
   "source": [
    "propertyPricePath = Path.cwd().parent.parent/'public' / 'prop_mtl.csv'\n",
    "pricedf = pd.read_csv(propertyPricePath)"
   ]
  },
  {
   "cell_type": "code",
   "execution_count": 17,
   "metadata": {},
   "outputs": [
    {
     "name": "stdout",
     "output_type": "stream",
     "text": [
      "        latitud   longitud    price  beds\n",
      "0     45.403712 -73.939915  4880000     5\n",
      "1     45.403712 -73.939915  3895000     5\n",
      "2     45.403712 -73.939915  1900000     4\n",
      "3     45.403712 -73.939915  1725000     4\n",
      "4     45.403743 -73.950018   800000     3\n",
      "...         ...        ...      ...   ...\n",
      "2991  45.699600 -73.483954   294900     2\n",
      "2992  45.699600 -73.483954   284900     2\n",
      "2993  45.699600 -73.483954   138000     1\n",
      "2994  45.699949 -73.483657   639000     4\n",
      "2995  45.699949 -73.483657   589000     3\n",
      "\n",
      "[2996 rows x 4 columns]\n"
     ]
    }
   ],
   "source": [
    "print(pricedf)"
   ]
  },
  {
   "cell_type": "code",
   "execution_count": 18,
   "metadata": {},
   "outputs": [],
   "source": [
    "X = pricedf.loc[:, ['latitud', 'longitud']]\n",
    "df_y = pricedf['price'] / pricedf['beds']"
   ]
  },
  {
   "cell_type": "code",
   "execution_count": 19,
   "metadata": {},
   "outputs": [],
   "source": [
    "X = np.array(X)\n",
    "y = np.array(df_y)"
   ]
  },
  {
   "cell_type": "code",
   "execution_count": 20,
   "metadata": {},
   "outputs": [],
   "source": [
    "X_train, X_test, y_train, y_test = train_test_split(X, y, test_size=0.1, random_state=1234)"
   ]
  },
  {
   "cell_type": "code",
   "execution_count": 21,
   "metadata": {},
   "outputs": [
    {
     "data": {
      "text/html": [
       "<style>#sk-container-id-2 {color: black;background-color: white;}#sk-container-id-2 pre{padding: 0;}#sk-container-id-2 div.sk-toggleable {background-color: white;}#sk-container-id-2 label.sk-toggleable__label {cursor: pointer;display: block;width: 100%;margin-bottom: 0;padding: 0.3em;box-sizing: border-box;text-align: center;}#sk-container-id-2 label.sk-toggleable__label-arrow:before {content: \"▸\";float: left;margin-right: 0.25em;color: #696969;}#sk-container-id-2 label.sk-toggleable__label-arrow:hover:before {color: black;}#sk-container-id-2 div.sk-estimator:hover label.sk-toggleable__label-arrow:before {color: black;}#sk-container-id-2 div.sk-toggleable__content {max-height: 0;max-width: 0;overflow: hidden;text-align: left;background-color: #f0f8ff;}#sk-container-id-2 div.sk-toggleable__content pre {margin: 0.2em;color: black;border-radius: 0.25em;background-color: #f0f8ff;}#sk-container-id-2 input.sk-toggleable__control:checked~div.sk-toggleable__content {max-height: 200px;max-width: 100%;overflow: auto;}#sk-container-id-2 input.sk-toggleable__control:checked~label.sk-toggleable__label-arrow:before {content: \"▾\";}#sk-container-id-2 div.sk-estimator input.sk-toggleable__control:checked~label.sk-toggleable__label {background-color: #d4ebff;}#sk-container-id-2 div.sk-label input.sk-toggleable__control:checked~label.sk-toggleable__label {background-color: #d4ebff;}#sk-container-id-2 input.sk-hidden--visually {border: 0;clip: rect(1px 1px 1px 1px);clip: rect(1px, 1px, 1px, 1px);height: 1px;margin: -1px;overflow: hidden;padding: 0;position: absolute;width: 1px;}#sk-container-id-2 div.sk-estimator {font-family: monospace;background-color: #f0f8ff;border: 1px dotted black;border-radius: 0.25em;box-sizing: border-box;margin-bottom: 0.5em;}#sk-container-id-2 div.sk-estimator:hover {background-color: #d4ebff;}#sk-container-id-2 div.sk-parallel-item::after {content: \"\";width: 100%;border-bottom: 1px solid gray;flex-grow: 1;}#sk-container-id-2 div.sk-label:hover label.sk-toggleable__label {background-color: #d4ebff;}#sk-container-id-2 div.sk-serial::before {content: \"\";position: absolute;border-left: 1px solid gray;box-sizing: border-box;top: 0;bottom: 0;left: 50%;z-index: 0;}#sk-container-id-2 div.sk-serial {display: flex;flex-direction: column;align-items: center;background-color: white;padding-right: 0.2em;padding-left: 0.2em;position: relative;}#sk-container-id-2 div.sk-item {position: relative;z-index: 1;}#sk-container-id-2 div.sk-parallel {display: flex;align-items: stretch;justify-content: center;background-color: white;position: relative;}#sk-container-id-2 div.sk-item::before, #sk-container-id-2 div.sk-parallel-item::before {content: \"\";position: absolute;border-left: 1px solid gray;box-sizing: border-box;top: 0;bottom: 0;left: 50%;z-index: -1;}#sk-container-id-2 div.sk-parallel-item {display: flex;flex-direction: column;z-index: 1;position: relative;background-color: white;}#sk-container-id-2 div.sk-parallel-item:first-child::after {align-self: flex-end;width: 50%;}#sk-container-id-2 div.sk-parallel-item:last-child::after {align-self: flex-start;width: 50%;}#sk-container-id-2 div.sk-parallel-item:only-child::after {width: 0;}#sk-container-id-2 div.sk-dashed-wrapped {border: 1px dashed gray;margin: 0 0.4em 0.5em 0.4em;box-sizing: border-box;padding-bottom: 0.4em;background-color: white;}#sk-container-id-2 div.sk-label label {font-family: monospace;font-weight: bold;display: inline-block;line-height: 1.2em;}#sk-container-id-2 div.sk-label-container {text-align: center;}#sk-container-id-2 div.sk-container {/* jupyter's `normalize.less` sets `[hidden] { display: none; }` but bootstrap.min.css set `[hidden] { display: none !important; }` so we also need the `!important` here to be able to override the default hidden behavior on the sphinx rendered scikit-learn.org. See: https://github.com/scikit-learn/scikit-learn/issues/21755 */display: inline-block !important;position: relative;}#sk-container-id-2 div.sk-text-repr-fallback {display: none;}</style><div id=\"sk-container-id-2\" class=\"sk-top-container\"><div class=\"sk-text-repr-fallback\"><pre>KNeighborsRegressor(n_neighbors=4)</pre><b>In a Jupyter environment, please rerun this cell to show the HTML representation or trust the notebook. <br />On GitHub, the HTML representation is unable to render, please try loading this page with nbviewer.org.</b></div><div class=\"sk-container\" hidden><div class=\"sk-item\"><div class=\"sk-estimator sk-toggleable\"><input class=\"sk-toggleable__control sk-hidden--visually\" id=\"sk-estimator-id-2\" type=\"checkbox\" checked><label for=\"sk-estimator-id-2\" class=\"sk-toggleable__label sk-toggleable__label-arrow\">KNeighborsRegressor</label><div class=\"sk-toggleable__content\"><pre>KNeighborsRegressor(n_neighbors=4)</pre></div></div></div></div></div>"
      ],
      "text/plain": [
       "KNeighborsRegressor(n_neighbors=4)"
      ]
     },
     "execution_count": 21,
     "metadata": {},
     "output_type": "execute_result"
    }
   ],
   "source": [
    "kNN = KNeighborsRegressor(n_neighbors=4)\n",
    "\n",
    "kNN.fit(X_train, y_train)"
   ]
  },
  {
   "cell_type": "code",
   "execution_count": 22,
   "metadata": {},
   "outputs": [],
   "source": [
    "linreg = LinearRegression().fit(X_train, y_train)"
   ]
  },
  {
   "cell_type": "code",
   "execution_count": 23,
   "metadata": {},
   "outputs": [],
   "source": [
    "treereg = DecisionTreeRegressor(random_state=1234).fit(X_train, y_train)"
   ]
  },
  {
   "cell_type": "code",
   "execution_count": 24,
   "metadata": {},
   "outputs": [
    {
     "name": "stdout",
     "output_type": "stream",
     "text": [
      "kNN: 0.3207993555672771\n",
      "Linear: 0.06543637707961047\n",
      "Decision Tree: 0.05709056197925455\n"
     ]
    }
   ],
   "source": [
    "print(f\"kNN: {kNN.score(X_test, y_test)}\")\n",
    "\n",
    "print(f\"Linear: {linreg.score(X_test, y_test)}\")\n",
    "\n",
    "print(f\"Decision Tree: {treereg.score(X_test, y_test)}\")"
   ]
  },
  {
   "cell_type": "code",
   "execution_count": 25,
   "metadata": {},
   "outputs": [],
   "source": [
    "criminalLogsPath = Path.cwd().parent.parent /'public'/ 'actes-criminels.csv'\n",
    "crimedf = pd.read_csv(criminalLogsPath)\n",
    "crimedf = crimedf.dropna(subset=['LONGITUDE'])\n",
    "crimedf = crimedf.dropna(subset=['LATITUDE'])\n",
    "\n",
    "def getMonth(str):\n",
    "    return str.split('-')[1]\n",
    "def getYear(str):\n",
    "    return str.split('-')[0]\n",
    "def getDay(str):\n",
    "    return str.split('-')[2]\n",
    "crimedf['YEAR'] = crimedf['DATE'].apply(getYear)\n",
    "crimedf['MONTH'] = crimedf['DATE'].apply(getMonth)\n",
    "crimedf['DAY'] = crimedf['DATE'].apply(getDay)\n",
    "\n",
    "crimedf = crimedf.loc[:, ['CATEGORIE', 'QUART', 'PDQ', 'YEAR', 'MONTH', 'DAY', 'LONGITUDE', 'LATITUDE']]\n",
    "\n",
    "y = crimedf['CATEGORIE']\n",
    "X = crimedf.loc[:, ['YEAR', 'MONTH', 'DAY', 'QUART', 'PDQ', 'LONGITUDE', 'LATITUDE']]\n",
    "\n",
    "X['JOUR'] = crimedf['QUART'].apply(lambda x : x == 'jour')\n",
    "X['SOIR'] = crimedf['QUART'].apply(lambda x : x == 'soir')\n",
    "X['NUIT'] = crimedf['QUART'].apply(lambda x : x == 'nuit')\n",
    "\n",
    "del X['QUART']\n",
    "\n",
    "uniques = X['PDQ'].unique()\n",
    "\n",
    "for pdq in uniques:\n",
    "\n",
    "    X[str(pdq)] = X['PDQ'].apply(lambda x : x == pdq)\n",
    "\n",
    "del X['PDQ']"
   ]
  },
  {
   "cell_type": "code",
   "execution_count": 26,
   "metadata": {},
   "outputs": [
    {
     "name": "stdout",
     "output_type": "stream",
     "text": [
      "        YEAR MONTH DAY  LONGITUDE   LATITUDE   JOUR   SOIR   NUIT   30.0  \\\n",
      "0       2018    09  13 -73.626778  45.567780   True  False  False   True   \n",
      "1       2018    04  30 -73.626778  45.567780   True  False  False   True   \n",
      "2       2018    09  01 -73.685928  45.519122  False  False   True  False   \n",
      "6       2017    07  30 -73.591457  45.516776   True  False  False  False   \n",
      "8       2017    08  01 -73.635117  45.602873   True  False  False  False   \n",
      "...      ...   ...  ..        ...        ...    ...    ...    ...    ...   \n",
      "247774  2023    01  25 -73.625616  45.528455  False  False   True  False   \n",
      "247775  2023    01  25 -73.616734  45.617219  False  False   True  False   \n",
      "247776  2023    01  25 -73.787533  45.482397  False  False   True  False   \n",
      "247778  2023    01  25 -73.718913  45.505551  False  False   True  False   \n",
      "247779  2023    01  25 -73.558643  45.532059  False  False   True  False   \n",
      "\n",
      "          7.0  ...    3.0   11.0   10.0   20.0   15.0   26.0   13.0   55.0  \\\n",
      "0       False  ...  False  False  False  False  False  False  False  False   \n",
      "1       False  ...  False  False  False  False  False  False  False  False   \n",
      "2        True  ...  False  False  False  False  False  False  False  False   \n",
      "6       False  ...  False  False  False  False  False  False  False  False   \n",
      "8       False  ...  False  False  False  False  False  False  False  False   \n",
      "...       ...  ...    ...    ...    ...    ...    ...    ...    ...    ...   \n",
      "247774  False  ...  False  False  False  False  False  False  False  False   \n",
      "247775  False  ...  False  False  False  False  False  False  False  False   \n",
      "247776  False  ...  False  False  False  False  False  False  False  False   \n",
      "247778   True  ...  False  False  False  False  False  False  False  False   \n",
      "247779  False  ...  False  False  False  False  False  False  False  False   \n",
      "\n",
      "         50.0    PRICE/ROOMS  \n",
      "0       False  198000.000000  \n",
      "1       False  198000.000000  \n",
      "2       False  164416.666667  \n",
      "6       False  458075.000000  \n",
      "8       False  155608.333333  \n",
      "...       ...            ...  \n",
      "247774  False  267541.666667  \n",
      "247775  False  103487.500000  \n",
      "247776  False  132175.000000  \n",
      "247778  False  236075.000000  \n",
      "247779  False  203381.439394  \n",
      "\n",
      "[205753 rows x 43 columns]\n"
     ]
    }
   ],
   "source": [
    "newX = X.copy()\n",
    "\n",
    "# define a function that takes two arguments\n",
    "def foo(a, b):\n",
    "    return kNN.predict([[b, a]])[0]\n",
    "\n",
    "# apply the function to columns A and B using a lambda function\n",
    "newX['PRICE/ROOMS'] = newX.apply(lambda row: foo(row['LONGITUDE'], row['LATITUDE']), axis=1)\n",
    "\n",
    "# print the updated DataFrame\n",
    "print(newX)"
   ]
  },
  {
   "cell_type": "code",
   "execution_count": 27,
   "metadata": {},
   "outputs": [
    {
     "name": "stdout",
     "output_type": "stream",
     "text": [
      "YEAR                  2015\n",
      "MONTH                   01\n",
      "DAY                     25\n",
      "LONGITUDE       -73.747285\n",
      "LATITUDE         45.456239\n",
      "JOUR                 False\n",
      "SOIR                  True\n",
      "NUIT                 False\n",
      "30.0                 False\n",
      "7.0                  False\n",
      "38.0                 False\n",
      "39.0                 False\n",
      "5.0                  False\n",
      "21.0                 False\n",
      "22.0                 False\n",
      "48.0                 False\n",
      "12.0                 False\n",
      "8.0                  False\n",
      "16.0                 False\n",
      "35.0                 False\n",
      "31.0                 False\n",
      "44.0                 False\n",
      "27.0                 False\n",
      "33.0                 False\n",
      "9.0                  False\n",
      "4.0                  False\n",
      "45.0                 False\n",
      "23.0                 False\n",
      "24.0                 False\n",
      "49.0                 False\n",
      "42.0                 False\n",
      "46.0                 False\n",
      "1.0                  False\n",
      "3.0                  False\n",
      "11.0                 False\n",
      "10.0                 False\n",
      "20.0                 False\n",
      "15.0                 False\n",
      "26.0                 False\n",
      "13.0                 False\n",
      "55.0                  True\n",
      "50.0                 False\n",
      "PRICE/ROOMS    471990.3125\n",
      "Name: 3061, dtype: object\n"
     ]
    }
   ],
   "source": [
    "print(newX.iloc[2996])"
   ]
  },
  {
   "cell_type": "code",
   "execution_count": 29,
   "metadata": {},
   "outputs": [],
   "source": [
    "newX.to_csv('data/randomForestTrainingData.csv')"
   ]
  }
 ],
 "metadata": {
  "kernelspec": {
   "display_name": "Python 3",
   "language": "python",
   "name": "python3"
  },
  "language_info": {
   "codemirror_mode": {
    "name": "ipython",
    "version": 3
   },
   "file_extension": ".py",
   "mimetype": "text/x-python",
   "name": "python",
   "nbconvert_exporter": "python",
   "pygments_lexer": "ipython3",
   "version": "3.10.10"
  },
  "orig_nbformat": 4
 },
 "nbformat": 4,
 "nbformat_minor": 2
}
