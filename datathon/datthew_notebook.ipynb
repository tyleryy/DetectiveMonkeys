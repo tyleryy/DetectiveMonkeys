{
 "cells": [
  {
   "attachments": {},
   "cell_type": "markdown",
   "metadata": {},
   "source": [
    "# Detective monkeys"
   ]
  },
  {
   "cell_type": "code",
   "execution_count": 22,
   "metadata": {
    "ExecuteTime": {
     "end_time": "2023-04-15T20:17:36.328016Z",
     "start_time": "2023-04-15T20:17:36.290157Z"
    }
   },
   "outputs": [],
   "source": [
    "import pandas as pd\n",
    "import numpy as np\n",
    "import seaborn as sns\n",
    "import plotly.express as px\n",
    "from pathlib import Path\n",
    "import json\n",
    "import plotly.graph_objs as go\n"
   ]
  },
  {
   "cell_type": "code",
   "execution_count": 23,
   "metadata": {
    "ExecuteTime": {
     "end_time": "2023-04-15T20:17:36.610139Z",
     "start_time": "2023-04-15T20:17:36.306016Z"
    }
   },
   "outputs": [],
   "source": [
    "# Loads the geojson into a JSON object\n",
    "geojsonPath = Path.cwd().parent/ 'public'/'limitespdq.geojson' # You might need to change this depending on where and how you are running this code\n",
    "geojson = json.load(open(geojsonPath, \"r\")) # The GeoJSON data contains the boundaries of the different precincts.\n",
    "\n",
    "# Loads the criminal logs into a pandas dataframe\n",
    "# You will probably need to manipulate the dataframe to get something good from it :D\n",
    "criminalLogsPath = Path.cwd().parent / 'public'/'actes-criminels.csv'\n",
    "df = pd.read_csv(criminalLogsPath)"
   ]
  },
  {
   "cell_type": "markdown",
   "metadata": {},
   "source": []
  },
  {
   "cell_type": "code",
   "execution_count": 24,
   "metadata": {
    "ExecuteTime": {
     "end_time": "2023-04-15T20:17:36.881606Z",
     "start_time": "2023-04-15T20:17:36.856526Z"
    },
    "collapsed": false
   },
   "outputs": [
    {
     "data": {
      "text/html": [
       "<div>\n",
       "<style scoped>\n",
       "    .dataframe tbody tr th:only-of-type {\n",
       "        vertical-align: middle;\n",
       "    }\n",
       "\n",
       "    .dataframe tbody tr th {\n",
       "        vertical-align: top;\n",
       "    }\n",
       "\n",
       "    .dataframe thead th {\n",
       "        text-align: right;\n",
       "    }\n",
       "</style>\n",
       "<table border=\"1\" class=\"dataframe\">\n",
       "  <thead>\n",
       "    <tr style=\"text-align: right;\">\n",
       "      <th></th>\n",
       "      <th>CATEGORIE</th>\n",
       "      <th>DATE</th>\n",
       "      <th>QUART</th>\n",
       "      <th>PDQ</th>\n",
       "      <th>X</th>\n",
       "      <th>Y</th>\n",
       "      <th>LONGITUDE</th>\n",
       "      <th>LATITUDE</th>\n",
       "    </tr>\n",
       "  </thead>\n",
       "  <tbody>\n",
       "    <tr>\n",
       "      <th>0</th>\n",
       "      <td>Vol de véhicule à moteur</td>\n",
       "      <td>2018-09-13</td>\n",
       "      <td>jour</td>\n",
       "      <td>30.0</td>\n",
       "      <td>294904.159001</td>\n",
       "      <td>5.047549e+06</td>\n",
       "      <td>-73.626778</td>\n",
       "      <td>45.567780</td>\n",
       "    </tr>\n",
       "    <tr>\n",
       "      <th>1</th>\n",
       "      <td>Vol de véhicule à moteur</td>\n",
       "      <td>2018-04-30</td>\n",
       "      <td>jour</td>\n",
       "      <td>30.0</td>\n",
       "      <td>294904.159001</td>\n",
       "      <td>5.047549e+06</td>\n",
       "      <td>-73.626778</td>\n",
       "      <td>45.567780</td>\n",
       "    </tr>\n",
       "    <tr>\n",
       "      <th>2</th>\n",
       "      <td>Vol de véhicule à moteur</td>\n",
       "      <td>2018-09-01</td>\n",
       "      <td>nuit</td>\n",
       "      <td>7.0</td>\n",
       "      <td>290274.565000</td>\n",
       "      <td>5.042150e+06</td>\n",
       "      <td>-73.685928</td>\n",
       "      <td>45.519122</td>\n",
       "    </tr>\n",
       "    <tr>\n",
       "      <th>3</th>\n",
       "      <td>Méfait</td>\n",
       "      <td>2017-07-21</td>\n",
       "      <td>jour</td>\n",
       "      <td>21.0</td>\n",
       "      <td>NaN</td>\n",
       "      <td>NaN</td>\n",
       "      <td>NaN</td>\n",
       "      <td>NaN</td>\n",
       "    </tr>\n",
       "    <tr>\n",
       "      <th>4</th>\n",
       "      <td>Méfait</td>\n",
       "      <td>2017-07-29</td>\n",
       "      <td>jour</td>\n",
       "      <td>12.0</td>\n",
       "      <td>NaN</td>\n",
       "      <td>NaN</td>\n",
       "      <td>NaN</td>\n",
       "      <td>NaN</td>\n",
       "    </tr>\n",
       "    <tr>\n",
       "      <th>5</th>\n",
       "      <td>Vol de véhicule à moteur</td>\n",
       "      <td>2017-07-30</td>\n",
       "      <td>nuit</td>\n",
       "      <td>21.0</td>\n",
       "      <td>NaN</td>\n",
       "      <td>NaN</td>\n",
       "      <td>NaN</td>\n",
       "      <td>NaN</td>\n",
       "    </tr>\n",
       "    <tr>\n",
       "      <th>6</th>\n",
       "      <td>Méfait</td>\n",
       "      <td>2017-07-30</td>\n",
       "      <td>jour</td>\n",
       "      <td>38.0</td>\n",
       "      <td>297654.715002</td>\n",
       "      <td>5.041877e+06</td>\n",
       "      <td>-73.591457</td>\n",
       "      <td>45.516776</td>\n",
       "    </tr>\n",
       "    <tr>\n",
       "      <th>7</th>\n",
       "      <td>Vols qualifiés</td>\n",
       "      <td>2017-07-30</td>\n",
       "      <td>jour</td>\n",
       "      <td>21.0</td>\n",
       "      <td>NaN</td>\n",
       "      <td>NaN</td>\n",
       "      <td>NaN</td>\n",
       "      <td>NaN</td>\n",
       "    </tr>\n",
       "    <tr>\n",
       "      <th>8</th>\n",
       "      <td>Vol dans / sur véhicule à moteur</td>\n",
       "      <td>2017-08-01</td>\n",
       "      <td>jour</td>\n",
       "      <td>39.0</td>\n",
       "      <td>294259.780993</td>\n",
       "      <td>5.051450e+06</td>\n",
       "      <td>-73.635117</td>\n",
       "      <td>45.602873</td>\n",
       "    </tr>\n",
       "    <tr>\n",
       "      <th>9</th>\n",
       "      <td>Méfait</td>\n",
       "      <td>2017-08-01</td>\n",
       "      <td>jour</td>\n",
       "      <td>21.0</td>\n",
       "      <td>NaN</td>\n",
       "      <td>NaN</td>\n",
       "      <td>NaN</td>\n",
       "      <td>NaN</td>\n",
       "    </tr>\n",
       "  </tbody>\n",
       "</table>\n",
       "</div>"
      ],
      "text/plain": [
       "                          CATEGORIE        DATE QUART   PDQ              X  \\\n",
       "0          Vol de véhicule à moteur  2018-09-13  jour  30.0  294904.159001   \n",
       "1          Vol de véhicule à moteur  2018-04-30  jour  30.0  294904.159001   \n",
       "2          Vol de véhicule à moteur  2018-09-01  nuit   7.0  290274.565000   \n",
       "3                            Méfait  2017-07-21  jour  21.0            NaN   \n",
       "4                            Méfait  2017-07-29  jour  12.0            NaN   \n",
       "5          Vol de véhicule à moteur  2017-07-30  nuit  21.0            NaN   \n",
       "6                            Méfait  2017-07-30  jour  38.0  297654.715002   \n",
       "7                    Vols qualifiés  2017-07-30  jour  21.0            NaN   \n",
       "8  Vol dans / sur véhicule à moteur  2017-08-01  jour  39.0  294259.780993   \n",
       "9                            Méfait  2017-08-01  jour  21.0            NaN   \n",
       "\n",
       "              Y  LONGITUDE   LATITUDE  \n",
       "0  5.047549e+06 -73.626778  45.567780  \n",
       "1  5.047549e+06 -73.626778  45.567780  \n",
       "2  5.042150e+06 -73.685928  45.519122  \n",
       "3           NaN        NaN        NaN  \n",
       "4           NaN        NaN        NaN  \n",
       "5           NaN        NaN        NaN  \n",
       "6  5.041877e+06 -73.591457  45.516776  \n",
       "7           NaN        NaN        NaN  \n",
       "8  5.051450e+06 -73.635117  45.602873  \n",
       "9           NaN        NaN        NaN  "
      ]
     },
     "execution_count": 24,
     "metadata": {},
     "output_type": "execute_result"
    }
   ],
   "source": [
    "df.head(10)"
   ]
  },
  {
   "cell_type": "code",
   "execution_count": 25,
   "metadata": {
    "ExecuteTime": {
     "end_time": "2023-04-15T20:17:36.981209Z",
     "start_time": "2023-04-15T20:17:36.888572Z"
    },
    "collapsed": false
   },
   "outputs": [
    {
     "data": {
      "text/plain": [
       "7         5\n",
       "17        5\n",
       "21        5\n",
       "26        5\n",
       "77        5\n",
       "         ..\n",
       "247743    5\n",
       "247752    5\n",
       "247754    5\n",
       "247756    5\n",
       "247772    5\n",
       "Length: 14156, dtype: int8"
      ]
     },
     "execution_count": 25,
     "metadata": {},
     "output_type": "execute_result"
    }
   ],
   "source": [
    "\n",
    "mapping = df['CATEGORIE'].astype('category').cat.codes\n",
    "\n",
    "mapping[mapping == 5]"
   ]
  },
  {
   "cell_type": "code",
   "execution_count": 26,
   "metadata": {
    "ExecuteTime": {
     "end_time": "2023-04-15T20:17:37.005757Z",
     "start_time": "2023-04-15T20:17:36.943206Z"
    },
    "collapsed": false
   },
   "outputs": [
    {
     "data": {
      "text/plain": [
       "CATEGORIE        0\n",
       "DATE             0\n",
       "QUART            0\n",
       "PDQ              5\n",
       "X            42028\n",
       "Y            42028\n",
       "LONGITUDE    42028\n",
       "LATITUDE     42028\n",
       "dtype: int64"
      ]
     },
     "execution_count": 26,
     "metadata": {},
     "output_type": "execute_result"
    }
   ],
   "source": [
    "# Check for missing dates\n",
    "df.isnull().sum()"
   ]
  },
  {
   "cell_type": "code",
   "execution_count": 27,
   "metadata": {
    "ExecuteTime": {
     "end_time": "2023-04-15T20:17:37.818693Z",
     "start_time": "2023-04-15T20:17:36.968212Z"
    },
    "collapsed": false
   },
   "outputs": [
    {
     "data": {
      "text/html": [
       "<div>\n",
       "<style scoped>\n",
       "    .dataframe tbody tr th:only-of-type {\n",
       "        vertical-align: middle;\n",
       "    }\n",
       "\n",
       "    .dataframe tbody tr th {\n",
       "        vertical-align: top;\n",
       "    }\n",
       "\n",
       "    .dataframe thead th {\n",
       "        text-align: right;\n",
       "    }\n",
       "</style>\n",
       "<table border=\"1\" class=\"dataframe\">\n",
       "  <thead>\n",
       "    <tr style=\"text-align: right;\">\n",
       "      <th></th>\n",
       "      <th>CATEGORIE</th>\n",
       "      <th>DATE</th>\n",
       "      <th>QUART</th>\n",
       "      <th>PDQ</th>\n",
       "      <th>X</th>\n",
       "      <th>Y</th>\n",
       "      <th>LONGITUDE</th>\n",
       "      <th>LATITUDE</th>\n",
       "    </tr>\n",
       "  </thead>\n",
       "  <tbody>\n",
       "    <tr>\n",
       "      <th>0</th>\n",
       "      <td>Vol de véhicule à moteur</td>\n",
       "      <td>736950</td>\n",
       "      <td>1</td>\n",
       "      <td>30.0</td>\n",
       "      <td>294904.159001</td>\n",
       "      <td>5.047549e+06</td>\n",
       "      <td>-73.626778</td>\n",
       "      <td>45.567780</td>\n",
       "    </tr>\n",
       "    <tr>\n",
       "      <th>1</th>\n",
       "      <td>Vol de véhicule à moteur</td>\n",
       "      <td>736814</td>\n",
       "      <td>1</td>\n",
       "      <td>30.0</td>\n",
       "      <td>294904.159001</td>\n",
       "      <td>5.047549e+06</td>\n",
       "      <td>-73.626778</td>\n",
       "      <td>45.567780</td>\n",
       "    </tr>\n",
       "    <tr>\n",
       "      <th>2</th>\n",
       "      <td>Vol de véhicule à moteur</td>\n",
       "      <td>736938</td>\n",
       "      <td>3</td>\n",
       "      <td>7.0</td>\n",
       "      <td>290274.565000</td>\n",
       "      <td>5.042150e+06</td>\n",
       "      <td>-73.685928</td>\n",
       "      <td>45.519122</td>\n",
       "    </tr>\n",
       "    <tr>\n",
       "      <th>3</th>\n",
       "      <td>Méfait</td>\n",
       "      <td>736531</td>\n",
       "      <td>1</td>\n",
       "      <td>21.0</td>\n",
       "      <td>NaN</td>\n",
       "      <td>NaN</td>\n",
       "      <td>NaN</td>\n",
       "      <td>NaN</td>\n",
       "    </tr>\n",
       "    <tr>\n",
       "      <th>4</th>\n",
       "      <td>Méfait</td>\n",
       "      <td>736539</td>\n",
       "      <td>1</td>\n",
       "      <td>12.0</td>\n",
       "      <td>NaN</td>\n",
       "      <td>NaN</td>\n",
       "      <td>NaN</td>\n",
       "      <td>NaN</td>\n",
       "    </tr>\n",
       "  </tbody>\n",
       "</table>\n",
       "</div>"
      ],
      "text/plain": [
       "                  CATEGORIE    DATE  QUART   PDQ              X             Y  \\\n",
       "0  Vol de véhicule à moteur  736950      1  30.0  294904.159001  5.047549e+06   \n",
       "1  Vol de véhicule à moteur  736814      1  30.0  294904.159001  5.047549e+06   \n",
       "2  Vol de véhicule à moteur  736938      3   7.0  290274.565000  5.042150e+06   \n",
       "3                    Méfait  736531      1  21.0            NaN           NaN   \n",
       "4                    Méfait  736539      1  12.0            NaN           NaN   \n",
       "\n",
       "   LONGITUDE   LATITUDE  \n",
       "0 -73.626778  45.567780  \n",
       "1 -73.626778  45.567780  \n",
       "2 -73.685928  45.519122  \n",
       "3        NaN        NaN  \n",
       "4        NaN        NaN  "
      ]
     },
     "execution_count": 27,
     "metadata": {},
     "output_type": "execute_result"
    }
   ],
   "source": [
    "quart_map = {\n",
    "    'jour': 1,\n",
    "    'soir': 2,\n",
    "    'nuit': 3\n",
    "}\n",
    "\n",
    "\n",
    "df['QUART'] = df['QUART'].map(quart_map)\n",
    "\n",
    "df['DATE'] = pd.to_datetime(df['DATE'], format='%Y-%m-%d')\n",
    "\n",
    "# Convert date to ordinal\n",
    "df['DATE'] = df['DATE'].apply(lambda x: x.toordinal())\n",
    "\n",
    "df.head()\n"
   ]
  },
  {
   "cell_type": "code",
   "execution_count": 28,
   "metadata": {
    "ExecuteTime": {
     "end_time": "2023-04-15T20:17:37.942148Z",
     "start_time": "2023-04-15T20:17:37.822694Z"
    },
    "collapsed": false
   },
   "outputs": [
    {
     "data": {
      "text/html": [
       "<div>\n",
       "<style scoped>\n",
       "    .dataframe tbody tr th:only-of-type {\n",
       "        vertical-align: middle;\n",
       "    }\n",
       "\n",
       "    .dataframe tbody tr th {\n",
       "        vertical-align: top;\n",
       "    }\n",
       "\n",
       "    .dataframe thead th {\n",
       "        text-align: right;\n",
       "    }\n",
       "</style>\n",
       "<table border=\"1\" class=\"dataframe\">\n",
       "  <thead>\n",
       "    <tr style=\"text-align: right;\">\n",
       "      <th></th>\n",
       "      <th>DATE</th>\n",
       "      <th>QUART</th>\n",
       "      <th>PDQ</th>\n",
       "      <th>X</th>\n",
       "      <th>Y</th>\n",
       "      <th>LONGITUDE</th>\n",
       "      <th>LATITUDE</th>\n",
       "    </tr>\n",
       "  </thead>\n",
       "  <tbody>\n",
       "    <tr>\n",
       "      <th>count</th>\n",
       "      <td>247781.000000</td>\n",
       "      <td>247781.000000</td>\n",
       "      <td>247776.000000</td>\n",
       "      <td>205753.000000</td>\n",
       "      <td>2.057530e+05</td>\n",
       "      <td>205753.000000</td>\n",
       "      <td>205753.000000</td>\n",
       "    </tr>\n",
       "    <tr>\n",
       "      <th>mean</th>\n",
       "      <td>737040.293836</td>\n",
       "      <td>1.646987</td>\n",
       "      <td>26.309610</td>\n",
       "      <td>295794.035138</td>\n",
       "      <td>5.043223e+06</td>\n",
       "      <td>-73.615263</td>\n",
       "      <td>45.528836</td>\n",
       "    </tr>\n",
       "    <tr>\n",
       "      <th>std</th>\n",
       "      <td>890.410231</td>\n",
       "      <td>0.735689</td>\n",
       "      <td>14.029531</td>\n",
       "      <td>6083.008112</td>\n",
       "      <td>6.068889e+03</td>\n",
       "      <td>0.077786</td>\n",
       "      <td>0.054660</td>\n",
       "    </tr>\n",
       "    <tr>\n",
       "      <th>min</th>\n",
       "      <td>735599.000000</td>\n",
       "      <td>1.000000</td>\n",
       "      <td>1.000000</td>\n",
       "      <td>268109.610010</td>\n",
       "      <td>5.029291e+06</td>\n",
       "      <td>-73.968954</td>\n",
       "      <td>45.402691</td>\n",
       "    </tr>\n",
       "    <tr>\n",
       "      <th>25%</th>\n",
       "      <td>736251.000000</td>\n",
       "      <td>1.000000</td>\n",
       "      <td>15.000000</td>\n",
       "      <td>293900.976994</td>\n",
       "      <td>5.039088e+06</td>\n",
       "      <td>-73.639550</td>\n",
       "      <td>45.491491</td>\n",
       "    </tr>\n",
       "    <tr>\n",
       "      <th>50%</th>\n",
       "      <td>736974.000000</td>\n",
       "      <td>1.000000</td>\n",
       "      <td>26.000000</td>\n",
       "      <td>297338.250001</td>\n",
       "      <td>5.042868e+06</td>\n",
       "      <td>-73.595562</td>\n",
       "      <td>45.525665</td>\n",
       "    </tr>\n",
       "    <tr>\n",
       "      <th>75%</th>\n",
       "      <td>737848.000000</td>\n",
       "      <td>2.000000</td>\n",
       "      <td>39.000000</td>\n",
       "      <td>299665.903993</td>\n",
       "      <td>5.047185e+06</td>\n",
       "      <td>-73.565752</td>\n",
       "      <td>45.564512</td>\n",
       "    </tr>\n",
       "    <tr>\n",
       "      <th>max</th>\n",
       "      <td>738588.000000</td>\n",
       "      <td>3.000000</td>\n",
       "      <td>55.000000</td>\n",
       "      <td>306389.863000</td>\n",
       "      <td>5.062496e+06</td>\n",
       "      <td>-73.479583</td>\n",
       "      <td>45.702351</td>\n",
       "    </tr>\n",
       "  </tbody>\n",
       "</table>\n",
       "</div>"
      ],
      "text/plain": [
       "                DATE          QUART            PDQ              X  \\\n",
       "count  247781.000000  247781.000000  247776.000000  205753.000000   \n",
       "mean   737040.293836       1.646987      26.309610  295794.035138   \n",
       "std       890.410231       0.735689      14.029531    6083.008112   \n",
       "min    735599.000000       1.000000       1.000000  268109.610010   \n",
       "25%    736251.000000       1.000000      15.000000  293900.976994   \n",
       "50%    736974.000000       1.000000      26.000000  297338.250001   \n",
       "75%    737848.000000       2.000000      39.000000  299665.903993   \n",
       "max    738588.000000       3.000000      55.000000  306389.863000   \n",
       "\n",
       "                  Y      LONGITUDE       LATITUDE  \n",
       "count  2.057530e+05  205753.000000  205753.000000  \n",
       "mean   5.043223e+06     -73.615263      45.528836  \n",
       "std    6.068889e+03       0.077786       0.054660  \n",
       "min    5.029291e+06     -73.968954      45.402691  \n",
       "25%    5.039088e+06     -73.639550      45.491491  \n",
       "50%    5.042868e+06     -73.595562      45.525665  \n",
       "75%    5.047185e+06     -73.565752      45.564512  \n",
       "max    5.062496e+06     -73.479583      45.702351  "
      ]
     },
     "execution_count": 28,
     "metadata": {},
     "output_type": "execute_result"
    }
   ],
   "source": [
    "# Summarize the data\n",
    "df.describe()"
   ]
  },
  {
   "cell_type": "code",
   "execution_count": 29,
   "metadata": {
    "ExecuteTime": {
     "end_time": "2023-04-15T20:17:37.942148Z",
     "start_time": "2023-04-15T20:17:37.913113Z"
    },
    "collapsed": false
   },
   "outputs": [
    {
     "data": {
      "text/plain": [
       "Vol dans / sur véhicule à moteur    73160\n",
       "Introduction                        61668\n",
       "Méfait                              54323\n",
       "Vol de véhicule à moteur            44244\n",
       "Vols qualifiés                      14156\n",
       "Infractions entrainant la mort        230\n",
       "Name: CATEGORIE, dtype: int64"
      ]
     },
     "execution_count": 29,
     "metadata": {},
     "output_type": "execute_result"
    }
   ],
   "source": [
    "\n",
    "# What is the most common crime?\n",
    "df['CATEGORIE'].value_counts()"
   ]
  },
  {
   "cell_type": "code",
   "execution_count": 30,
   "metadata": {
    "ExecuteTime": {
     "end_time": "2023-04-15T20:17:38.083850Z",
     "start_time": "2023-04-15T20:17:37.930118Z"
    },
    "collapsed": false
   },
   "outputs": [
    {
     "data": {
      "application/vnd.plotly.v1+json": {
       "config": {
        "plotlyServerURL": "https://plot.ly"
       },
       "data": [
        {
         "alignmentgroup": "True",
         "hovertemplate": "CATEGORIE=Infractions entrainant la mort<br>PDQ=%{x}<br>value=%{y}<extra></extra>",
         "legendgroup": "Infractions entrainant la mort",
         "marker": {
          "color": "#636efa",
          "pattern": {
           "shape": ""
          }
         },
         "name": "Infractions entrainant la mort",
         "offsetgroup": "Infractions entrainant la mort",
         "orientation": "v",
         "showlegend": true,
         "textposition": "auto",
         "type": "bar",
         "x": [
          1,
          3,
          4,
          5,
          7,
          8,
          9,
          10,
          11,
          12,
          13,
          15,
          16,
          20,
          21,
          22,
          23,
          24,
          26,
          27,
          30,
          31,
          33,
          35,
          38,
          39,
          42,
          44,
          45,
          46,
          48,
          49,
          50,
          55
         ],
         "xaxis": "x",
         "y": [
          0,
          7,
          0,
          3,
          6,
          7,
          7,
          4,
          4,
          7,
          14,
          9,
          6,
          11,
          14,
          7,
          8,
          0,
          9,
          9,
          8,
          5,
          2,
          4,
          14,
          15,
          9,
          5,
          7,
          8,
          10,
          11,
          0,
          0
         ],
         "yaxis": "y"
        },
        {
         "alignmentgroup": "True",
         "hovertemplate": "CATEGORIE=Introduction<br>PDQ=%{x}<br>value=%{y}<extra></extra>",
         "legendgroup": "Introduction",
         "marker": {
          "color": "#EF553B",
          "pattern": {
           "shape": ""
          }
         },
         "name": "Introduction",
         "offsetgroup": "Introduction",
         "orientation": "v",
         "showlegend": true,
         "textposition": "auto",
         "type": "bar",
         "x": [
          1,
          3,
          4,
          5,
          7,
          8,
          9,
          10,
          11,
          12,
          13,
          15,
          16,
          20,
          21,
          22,
          23,
          24,
          26,
          27,
          30,
          31,
          33,
          35,
          38,
          39,
          42,
          44,
          45,
          46,
          48,
          49,
          50,
          55
         ],
         "xaxis": "x",
         "y": [
          857,
          1362,
          662,
          1423,
          2297,
          1468,
          1088,
          1082,
          1018,
          1316,
          1388,
          2822,
          1824,
          1855,
          2329,
          2449,
          3236,
          893,
          2949,
          2291,
          1443,
          2140,
          756,
          2597,
          6474,
          2611,
          1763,
          2892,
          967,
          939,
          2832,
          1540,
          97,
          6
         ],
         "yaxis": "y"
        },
        {
         "alignmentgroup": "True",
         "hovertemplate": "CATEGORIE=Méfait<br>PDQ=%{x}<br>value=%{y}<extra></extra>",
         "legendgroup": "Méfait",
         "marker": {
          "color": "#00cc96",
          "pattern": {
           "shape": ""
          }
         },
         "name": "Méfait",
         "offsetgroup": "Méfait",
         "orientation": "v",
         "showlegend": true,
         "textposition": "auto",
         "type": "bar",
         "x": [
          1,
          3,
          4,
          5,
          7,
          8,
          9,
          10,
          11,
          12,
          13,
          15,
          16,
          20,
          21,
          22,
          23,
          24,
          26,
          27,
          30,
          31,
          33,
          35,
          38,
          39,
          42,
          44,
          45,
          46,
          48,
          49,
          50,
          55
         ],
         "xaxis": "x",
         "y": [
          583,
          1100,
          717,
          1244,
          1872,
          1329,
          1050,
          932,
          1285,
          1346,
          1682,
          2315,
          1508,
          2752,
          3078,
          1742,
          2261,
          504,
          2390,
          1787,
          1478,
          1394,
          646,
          1851,
          3951,
          2343,
          1590,
          1980,
          1051,
          1018,
          2536,
          1424,
          1552,
          32
         ],
         "yaxis": "y"
        },
        {
         "alignmentgroup": "True",
         "hovertemplate": "CATEGORIE=Vol dans / sur véhicule à moteur<br>PDQ=%{x}<br>value=%{y}<extra></extra>",
         "legendgroup": "Vol dans / sur véhicule à moteur",
         "marker": {
          "color": "#ab63fa",
          "pattern": {
           "shape": ""
          }
         },
         "name": "Vol dans / sur véhicule à moteur",
         "offsetgroup": "Vol dans / sur véhicule à moteur",
         "orientation": "v",
         "showlegend": true,
         "textposition": "auto",
         "type": "bar",
         "x": [
          1,
          3,
          4,
          5,
          7,
          8,
          9,
          10,
          11,
          12,
          13,
          15,
          16,
          20,
          21,
          22,
          23,
          24,
          26,
          27,
          30,
          31,
          33,
          35,
          38,
          39,
          42,
          44,
          45,
          46,
          48,
          49,
          50,
          55
         ],
         "xaxis": "x",
         "y": [
          752,
          1074,
          980,
          2098,
          3068,
          1251,
          1172,
          1508,
          813,
          1579,
          1619,
          2581,
          1698,
          7689,
          6932,
          1989,
          2423,
          784,
          2572,
          2443,
          2146,
          2159,
          900,
          2006,
          4315,
          2593,
          2962,
          2805,
          1352,
          1973,
          3175,
          1716,
          7,
          24
         ],
         "yaxis": "y"
        },
        {
         "alignmentgroup": "True",
         "hovertemplate": "CATEGORIE=Vol de véhicule à moteur<br>PDQ=%{x}<br>value=%{y}<extra></extra>",
         "legendgroup": "Vol de véhicule à moteur",
         "marker": {
          "color": "#FFA15A",
          "pattern": {
           "shape": ""
          }
         },
         "name": "Vol de véhicule à moteur",
         "offsetgroup": "Vol de véhicule à moteur",
         "orientation": "v",
         "showlegend": true,
         "textposition": "auto",
         "type": "bar",
         "x": [
          1,
          3,
          4,
          5,
          7,
          8,
          9,
          10,
          11,
          12,
          13,
          15,
          16,
          20,
          21,
          22,
          23,
          24,
          26,
          27,
          30,
          31,
          33,
          35,
          38,
          39,
          42,
          44,
          45,
          46,
          48,
          49,
          50,
          55
         ],
         "xaxis": "x",
         "y": [
          575,
          754,
          673,
          2012,
          3534,
          937,
          1009,
          1306,
          440,
          468,
          1200,
          1119,
          684,
          899,
          1085,
          764,
          1104,
          259,
          2040,
          2097,
          1691,
          1470,
          463,
          1024,
          1798,
          3012,
          2601,
          1813,
          1703,
          1595,
          2635,
          1450,
          0,
          29
         ],
         "yaxis": "y"
        },
        {
         "alignmentgroup": "True",
         "hovertemplate": "CATEGORIE=Vols qualifiés<br>PDQ=%{x}<br>value=%{y}<extra></extra>",
         "legendgroup": "Vols qualifiés",
         "marker": {
          "color": "#19d3f3",
          "pattern": {
           "shape": ""
          }
         },
         "name": "Vols qualifiés",
         "offsetgroup": "Vols qualifiés",
         "orientation": "v",
         "showlegend": true,
         "textposition": "auto",
         "type": "bar",
         "x": [
          1,
          3,
          4,
          5,
          7,
          8,
          9,
          10,
          11,
          12,
          13,
          15,
          16,
          20,
          21,
          22,
          23,
          24,
          26,
          27,
          30,
          31,
          33,
          35,
          38,
          39,
          42,
          44,
          45,
          46,
          48,
          49,
          50,
          55
         ],
         "xaxis": "x",
         "y": [
          83,
          230,
          131,
          237,
          473,
          298,
          203,
          268,
          330,
          433,
          419,
          565,
          330,
          599,
          1111,
          613,
          601,
          92,
          703,
          456,
          437,
          404,
          185,
          438,
          944,
          730,
          438,
          500,
          230,
          246,
          770,
          286,
          372,
          1
         ],
         "yaxis": "y"
        }
       ],
       "layout": {
        "barmode": "stack",
        "height": 800,
        "legend": {
         "title": {
          "text": "CATEGORIE"
         },
         "tracegroupgap": 0
        },
        "margin": {
         "t": 60
        },
        "template": {
         "data": {
          "bar": [
           {
            "error_x": {
             "color": "#2a3f5f"
            },
            "error_y": {
             "color": "#2a3f5f"
            },
            "marker": {
             "line": {
              "color": "#E5ECF6",
              "width": 0.5
             },
             "pattern": {
              "fillmode": "overlay",
              "size": 10,
              "solidity": 0.2
             }
            },
            "type": "bar"
           }
          ],
          "barpolar": [
           {
            "marker": {
             "line": {
              "color": "#E5ECF6",
              "width": 0.5
             },
             "pattern": {
              "fillmode": "overlay",
              "size": 10,
              "solidity": 0.2
             }
            },
            "type": "barpolar"
           }
          ],
          "carpet": [
           {
            "aaxis": {
             "endlinecolor": "#2a3f5f",
             "gridcolor": "white",
             "linecolor": "white",
             "minorgridcolor": "white",
             "startlinecolor": "#2a3f5f"
            },
            "baxis": {
             "endlinecolor": "#2a3f5f",
             "gridcolor": "white",
             "linecolor": "white",
             "minorgridcolor": "white",
             "startlinecolor": "#2a3f5f"
            },
            "type": "carpet"
           }
          ],
          "choropleth": [
           {
            "colorbar": {
             "outlinewidth": 0,
             "ticks": ""
            },
            "type": "choropleth"
           }
          ],
          "contour": [
           {
            "colorbar": {
             "outlinewidth": 0,
             "ticks": ""
            },
            "colorscale": [
             [
              0,
              "#0d0887"
             ],
             [
              0.1111111111111111,
              "#46039f"
             ],
             [
              0.2222222222222222,
              "#7201a8"
             ],
             [
              0.3333333333333333,
              "#9c179e"
             ],
             [
              0.4444444444444444,
              "#bd3786"
             ],
             [
              0.5555555555555556,
              "#d8576b"
             ],
             [
              0.6666666666666666,
              "#ed7953"
             ],
             [
              0.7777777777777778,
              "#fb9f3a"
             ],
             [
              0.8888888888888888,
              "#fdca26"
             ],
             [
              1,
              "#f0f921"
             ]
            ],
            "type": "contour"
           }
          ],
          "contourcarpet": [
           {
            "colorbar": {
             "outlinewidth": 0,
             "ticks": ""
            },
            "type": "contourcarpet"
           }
          ],
          "heatmap": [
           {
            "colorbar": {
             "outlinewidth": 0,
             "ticks": ""
            },
            "colorscale": [
             [
              0,
              "#0d0887"
             ],
             [
              0.1111111111111111,
              "#46039f"
             ],
             [
              0.2222222222222222,
              "#7201a8"
             ],
             [
              0.3333333333333333,
              "#9c179e"
             ],
             [
              0.4444444444444444,
              "#bd3786"
             ],
             [
              0.5555555555555556,
              "#d8576b"
             ],
             [
              0.6666666666666666,
              "#ed7953"
             ],
             [
              0.7777777777777778,
              "#fb9f3a"
             ],
             [
              0.8888888888888888,
              "#fdca26"
             ],
             [
              1,
              "#f0f921"
             ]
            ],
            "type": "heatmap"
           }
          ],
          "heatmapgl": [
           {
            "colorbar": {
             "outlinewidth": 0,
             "ticks": ""
            },
            "colorscale": [
             [
              0,
              "#0d0887"
             ],
             [
              0.1111111111111111,
              "#46039f"
             ],
             [
              0.2222222222222222,
              "#7201a8"
             ],
             [
              0.3333333333333333,
              "#9c179e"
             ],
             [
              0.4444444444444444,
              "#bd3786"
             ],
             [
              0.5555555555555556,
              "#d8576b"
             ],
             [
              0.6666666666666666,
              "#ed7953"
             ],
             [
              0.7777777777777778,
              "#fb9f3a"
             ],
             [
              0.8888888888888888,
              "#fdca26"
             ],
             [
              1,
              "#f0f921"
             ]
            ],
            "type": "heatmapgl"
           }
          ],
          "histogram": [
           {
            "marker": {
             "pattern": {
              "fillmode": "overlay",
              "size": 10,
              "solidity": 0.2
             }
            },
            "type": "histogram"
           }
          ],
          "histogram2d": [
           {
            "colorbar": {
             "outlinewidth": 0,
             "ticks": ""
            },
            "colorscale": [
             [
              0,
              "#0d0887"
             ],
             [
              0.1111111111111111,
              "#46039f"
             ],
             [
              0.2222222222222222,
              "#7201a8"
             ],
             [
              0.3333333333333333,
              "#9c179e"
             ],
             [
              0.4444444444444444,
              "#bd3786"
             ],
             [
              0.5555555555555556,
              "#d8576b"
             ],
             [
              0.6666666666666666,
              "#ed7953"
             ],
             [
              0.7777777777777778,
              "#fb9f3a"
             ],
             [
              0.8888888888888888,
              "#fdca26"
             ],
             [
              1,
              "#f0f921"
             ]
            ],
            "type": "histogram2d"
           }
          ],
          "histogram2dcontour": [
           {
            "colorbar": {
             "outlinewidth": 0,
             "ticks": ""
            },
            "colorscale": [
             [
              0,
              "#0d0887"
             ],
             [
              0.1111111111111111,
              "#46039f"
             ],
             [
              0.2222222222222222,
              "#7201a8"
             ],
             [
              0.3333333333333333,
              "#9c179e"
             ],
             [
              0.4444444444444444,
              "#bd3786"
             ],
             [
              0.5555555555555556,
              "#d8576b"
             ],
             [
              0.6666666666666666,
              "#ed7953"
             ],
             [
              0.7777777777777778,
              "#fb9f3a"
             ],
             [
              0.8888888888888888,
              "#fdca26"
             ],
             [
              1,
              "#f0f921"
             ]
            ],
            "type": "histogram2dcontour"
           }
          ],
          "mesh3d": [
           {
            "colorbar": {
             "outlinewidth": 0,
             "ticks": ""
            },
            "type": "mesh3d"
           }
          ],
          "parcoords": [
           {
            "line": {
             "colorbar": {
              "outlinewidth": 0,
              "ticks": ""
             }
            },
            "type": "parcoords"
           }
          ],
          "pie": [
           {
            "automargin": true,
            "type": "pie"
           }
          ],
          "scatter": [
           {
            "fillpattern": {
             "fillmode": "overlay",
             "size": 10,
             "solidity": 0.2
            },
            "type": "scatter"
           }
          ],
          "scatter3d": [
           {
            "line": {
             "colorbar": {
              "outlinewidth": 0,
              "ticks": ""
             }
            },
            "marker": {
             "colorbar": {
              "outlinewidth": 0,
              "ticks": ""
             }
            },
            "type": "scatter3d"
           }
          ],
          "scattercarpet": [
           {
            "marker": {
             "colorbar": {
              "outlinewidth": 0,
              "ticks": ""
             }
            },
            "type": "scattercarpet"
           }
          ],
          "scattergeo": [
           {
            "marker": {
             "colorbar": {
              "outlinewidth": 0,
              "ticks": ""
             }
            },
            "type": "scattergeo"
           }
          ],
          "scattergl": [
           {
            "marker": {
             "colorbar": {
              "outlinewidth": 0,
              "ticks": ""
             }
            },
            "type": "scattergl"
           }
          ],
          "scattermapbox": [
           {
            "marker": {
             "colorbar": {
              "outlinewidth": 0,
              "ticks": ""
             }
            },
            "type": "scattermapbox"
           }
          ],
          "scatterpolar": [
           {
            "marker": {
             "colorbar": {
              "outlinewidth": 0,
              "ticks": ""
             }
            },
            "type": "scatterpolar"
           }
          ],
          "scatterpolargl": [
           {
            "marker": {
             "colorbar": {
              "outlinewidth": 0,
              "ticks": ""
             }
            },
            "type": "scatterpolargl"
           }
          ],
          "scatterternary": [
           {
            "marker": {
             "colorbar": {
              "outlinewidth": 0,
              "ticks": ""
             }
            },
            "type": "scatterternary"
           }
          ],
          "surface": [
           {
            "colorbar": {
             "outlinewidth": 0,
             "ticks": ""
            },
            "colorscale": [
             [
              0,
              "#0d0887"
             ],
             [
              0.1111111111111111,
              "#46039f"
             ],
             [
              0.2222222222222222,
              "#7201a8"
             ],
             [
              0.3333333333333333,
              "#9c179e"
             ],
             [
              0.4444444444444444,
              "#bd3786"
             ],
             [
              0.5555555555555556,
              "#d8576b"
             ],
             [
              0.6666666666666666,
              "#ed7953"
             ],
             [
              0.7777777777777778,
              "#fb9f3a"
             ],
             [
              0.8888888888888888,
              "#fdca26"
             ],
             [
              1,
              "#f0f921"
             ]
            ],
            "type": "surface"
           }
          ],
          "table": [
           {
            "cells": {
             "fill": {
              "color": "#EBF0F8"
             },
             "line": {
              "color": "white"
             }
            },
            "header": {
             "fill": {
              "color": "#C8D4E3"
             },
             "line": {
              "color": "white"
             }
            },
            "type": "table"
           }
          ]
         },
         "layout": {
          "annotationdefaults": {
           "arrowcolor": "#2a3f5f",
           "arrowhead": 0,
           "arrowwidth": 1
          },
          "autotypenumbers": "strict",
          "coloraxis": {
           "colorbar": {
            "outlinewidth": 0,
            "ticks": ""
           }
          },
          "colorscale": {
           "diverging": [
            [
             0,
             "#8e0152"
            ],
            [
             0.1,
             "#c51b7d"
            ],
            [
             0.2,
             "#de77ae"
            ],
            [
             0.3,
             "#f1b6da"
            ],
            [
             0.4,
             "#fde0ef"
            ],
            [
             0.5,
             "#f7f7f7"
            ],
            [
             0.6,
             "#e6f5d0"
            ],
            [
             0.7,
             "#b8e186"
            ],
            [
             0.8,
             "#7fbc41"
            ],
            [
             0.9,
             "#4d9221"
            ],
            [
             1,
             "#276419"
            ]
           ],
           "sequential": [
            [
             0,
             "#0d0887"
            ],
            [
             0.1111111111111111,
             "#46039f"
            ],
            [
             0.2222222222222222,
             "#7201a8"
            ],
            [
             0.3333333333333333,
             "#9c179e"
            ],
            [
             0.4444444444444444,
             "#bd3786"
            ],
            [
             0.5555555555555556,
             "#d8576b"
            ],
            [
             0.6666666666666666,
             "#ed7953"
            ],
            [
             0.7777777777777778,
             "#fb9f3a"
            ],
            [
             0.8888888888888888,
             "#fdca26"
            ],
            [
             1,
             "#f0f921"
            ]
           ],
           "sequentialminus": [
            [
             0,
             "#0d0887"
            ],
            [
             0.1111111111111111,
             "#46039f"
            ],
            [
             0.2222222222222222,
             "#7201a8"
            ],
            [
             0.3333333333333333,
             "#9c179e"
            ],
            [
             0.4444444444444444,
             "#bd3786"
            ],
            [
             0.5555555555555556,
             "#d8576b"
            ],
            [
             0.6666666666666666,
             "#ed7953"
            ],
            [
             0.7777777777777778,
             "#fb9f3a"
            ],
            [
             0.8888888888888888,
             "#fdca26"
            ],
            [
             1,
             "#f0f921"
            ]
           ]
          },
          "colorway": [
           "#636efa",
           "#EF553B",
           "#00cc96",
           "#ab63fa",
           "#FFA15A",
           "#19d3f3",
           "#FF6692",
           "#B6E880",
           "#FF97FF",
           "#FECB52"
          ],
          "font": {
           "color": "#2a3f5f"
          },
          "geo": {
           "bgcolor": "white",
           "lakecolor": "white",
           "landcolor": "#E5ECF6",
           "showlakes": true,
           "showland": true,
           "subunitcolor": "white"
          },
          "hoverlabel": {
           "align": "left"
          },
          "hovermode": "closest",
          "mapbox": {
           "style": "light"
          },
          "paper_bgcolor": "white",
          "plot_bgcolor": "#E5ECF6",
          "polar": {
           "angularaxis": {
            "gridcolor": "white",
            "linecolor": "white",
            "ticks": ""
           },
           "bgcolor": "#E5ECF6",
           "radialaxis": {
            "gridcolor": "white",
            "linecolor": "white",
            "ticks": ""
           }
          },
          "scene": {
           "xaxis": {
            "backgroundcolor": "#E5ECF6",
            "gridcolor": "white",
            "gridwidth": 2,
            "linecolor": "white",
            "showbackground": true,
            "ticks": "",
            "zerolinecolor": "white"
           },
           "yaxis": {
            "backgroundcolor": "#E5ECF6",
            "gridcolor": "white",
            "gridwidth": 2,
            "linecolor": "white",
            "showbackground": true,
            "ticks": "",
            "zerolinecolor": "white"
           },
           "zaxis": {
            "backgroundcolor": "#E5ECF6",
            "gridcolor": "white",
            "gridwidth": 2,
            "linecolor": "white",
            "showbackground": true,
            "ticks": "",
            "zerolinecolor": "white"
           }
          },
          "shapedefaults": {
           "line": {
            "color": "#2a3f5f"
           }
          },
          "ternary": {
           "aaxis": {
            "gridcolor": "white",
            "linecolor": "white",
            "ticks": ""
           },
           "baxis": {
            "gridcolor": "white",
            "linecolor": "white",
            "ticks": ""
           },
           "bgcolor": "#E5ECF6",
           "caxis": {
            "gridcolor": "white",
            "linecolor": "white",
            "ticks": ""
           }
          },
          "title": {
           "x": 0.05
          },
          "xaxis": {
           "automargin": true,
           "gridcolor": "white",
           "linecolor": "white",
           "ticks": "",
           "title": {
            "standoff": 15
           },
           "zerolinecolor": "white",
           "zerolinewidth": 2
          },
          "yaxis": {
           "automargin": true,
           "gridcolor": "white",
           "linecolor": "white",
           "ticks": "",
           "title": {
            "standoff": 15
           },
           "zerolinecolor": "white",
           "zerolinewidth": 2
          }
         }
        },
        "width": 1000,
        "xaxis": {
         "anchor": "y",
         "domain": [
          0,
          1
         ],
         "title": {
          "text": "PDQ"
         }
        },
        "yaxis": {
         "anchor": "x",
         "domain": [
          0,
          1
         ],
         "title": {
          "text": "value"
         }
        }
       }
      }
     },
     "metadata": {},
     "output_type": "display_data"
    }
   ],
   "source": [
    "# For each PDQ and each type of crime, I want to see the number of crimes that happened in that PDQ and that type of crime\n",
    "\n",
    "# Use pandas pivot table to create a table with the number of crimes per PDQ and per crime type\n",
    "\n",
    "crime_freq = df.pivot_table(index='PDQ', columns='CATEGORIE', values='DATE', aggfunc='count')\n",
    "\n",
    "crime_freq = crime_freq.fillna(0)\n",
    "\n",
    "\n",
    "# Create a stacked bar chart with plotly\n",
    "\n",
    "fig = px.bar(crime_freq, barmode='stack', width=1000, height=800)\n",
    "\n",
    "fig.show()\n"
   ]
  },
  {
   "cell_type": "code",
   "execution_count": 31,
   "metadata": {
    "ExecuteTime": {
     "end_time": "2023-04-15T20:17:38.137415Z",
     "start_time": "2023-04-15T20:17:38.043745Z"
    },
    "collapsed": false
   },
   "outputs": [
    {
     "data": {
      "text/html": [
       "<div>\n",
       "<style scoped>\n",
       "    .dataframe tbody tr th:only-of-type {\n",
       "        vertical-align: middle;\n",
       "    }\n",
       "\n",
       "    .dataframe tbody tr th {\n",
       "        vertical-align: top;\n",
       "    }\n",
       "\n",
       "    .dataframe thead th {\n",
       "        text-align: right;\n",
       "    }\n",
       "</style>\n",
       "<table border=\"1\" class=\"dataframe\">\n",
       "  <thead>\n",
       "    <tr style=\"text-align: right;\">\n",
       "      <th></th>\n",
       "      <th>CATEGORIE</th>\n",
       "      <th>DATE</th>\n",
       "      <th>QUART</th>\n",
       "      <th>PDQ</th>\n",
       "      <th>X</th>\n",
       "      <th>Y</th>\n",
       "      <th>LONGITUDE</th>\n",
       "      <th>LATITUDE</th>\n",
       "      <th>crime_count</th>\n",
       "    </tr>\n",
       "  </thead>\n",
       "  <tbody>\n",
       "    <tr>\n",
       "      <th>245656</th>\n",
       "      <td>Vol de véhicule à moteur</td>\n",
       "      <td>736613</td>\n",
       "      <td>2</td>\n",
       "      <td>55.0</td>\n",
       "      <td>285459.663000</td>\n",
       "      <td>5.035175e+06</td>\n",
       "      <td>-73.747285</td>\n",
       "      <td>45.456239</td>\n",
       "      <td>92</td>\n",
       "    </tr>\n",
       "    <tr>\n",
       "      <th>245748</th>\n",
       "      <td>Vols qualifiés</td>\n",
       "      <td>735742</td>\n",
       "      <td>2</td>\n",
       "      <td>50.0</td>\n",
       "      <td>302277.936001</td>\n",
       "      <td>5.041476e+06</td>\n",
       "      <td>-73.532280</td>\n",
       "      <td>45.513197</td>\n",
       "      <td>2028</td>\n",
       "    </tr>\n",
       "    <tr>\n",
       "      <th>167519</th>\n",
       "      <td>Vol dans / sur véhicule à moteur</td>\n",
       "      <td>736829</td>\n",
       "      <td>1</td>\n",
       "      <td>49.0</td>\n",
       "      <td>305817.012000</td>\n",
       "      <td>5.061471e+06</td>\n",
       "      <td>-73.486942</td>\n",
       "      <td>45.693121</td>\n",
       "      <td>6427</td>\n",
       "    </tr>\n",
       "    <tr>\n",
       "      <th>89104</th>\n",
       "      <td>Introduction</td>\n",
       "      <td>736545</td>\n",
       "      <td>1</td>\n",
       "      <td>48.0</td>\n",
       "      <td>302206.204009</td>\n",
       "      <td>5.050672e+06</td>\n",
       "      <td>-73.533246</td>\n",
       "      <td>45.595949</td>\n",
       "      <td>11958</td>\n",
       "    </tr>\n",
       "    <tr>\n",
       "      <th>183309</th>\n",
       "      <td>Vol de véhicule à moteur</td>\n",
       "      <td>736728</td>\n",
       "      <td>3</td>\n",
       "      <td>46.0</td>\n",
       "      <td>300206.969004</td>\n",
       "      <td>5.052306e+06</td>\n",
       "      <td>-73.558887</td>\n",
       "      <td>45.610645</td>\n",
       "      <td>5779</td>\n",
       "    </tr>\n",
       "    <tr>\n",
       "      <th>150044</th>\n",
       "      <td>Vol dans / sur véhicule à moteur</td>\n",
       "      <td>736544</td>\n",
       "      <td>1</td>\n",
       "      <td>45.0</td>\n",
       "      <td>296483.624000</td>\n",
       "      <td>5.055234e+06</td>\n",
       "      <td>-73.606674</td>\n",
       "      <td>45.636951</td>\n",
       "      <td>5310</td>\n",
       "    </tr>\n",
       "    <tr>\n",
       "      <th>120322</th>\n",
       "      <td>Vol dans / sur véhicule à moteur</td>\n",
       "      <td>736586</td>\n",
       "      <td>1</td>\n",
       "      <td>44.0</td>\n",
       "      <td>299537.390996</td>\n",
       "      <td>5.048547e+06</td>\n",
       "      <td>-73.567431</td>\n",
       "      <td>45.576815</td>\n",
       "      <td>9995</td>\n",
       "    </tr>\n",
       "    <tr>\n",
       "      <th>173946</th>\n",
       "      <td>Vol dans / sur véhicule à moteur</td>\n",
       "      <td>736727</td>\n",
       "      <td>2</td>\n",
       "      <td>42.0</td>\n",
       "      <td>298486.799994</td>\n",
       "      <td>5.048363e+06</td>\n",
       "      <td>-73.580891</td>\n",
       "      <td>45.575146</td>\n",
       "      <td>9363</td>\n",
       "    </tr>\n",
       "    <tr>\n",
       "      <th>55647</th>\n",
       "      <td>Vol dans / sur véhicule à moteur</td>\n",
       "      <td>736542</td>\n",
       "      <td>1</td>\n",
       "      <td>39.0</td>\n",
       "      <td>294259.780993</td>\n",
       "      <td>5.051450e+06</td>\n",
       "      <td>-73.635117</td>\n",
       "      <td>45.602873</td>\n",
       "      <td>11304</td>\n",
       "    </tr>\n",
       "    <tr>\n",
       "      <th>38151</th>\n",
       "      <td>Méfait</td>\n",
       "      <td>736540</td>\n",
       "      <td>1</td>\n",
       "      <td>38.0</td>\n",
       "      <td>297654.715002</td>\n",
       "      <td>5.041877e+06</td>\n",
       "      <td>-73.591457</td>\n",
       "      <td>45.516776</td>\n",
       "      <td>17496</td>\n",
       "    </tr>\n",
       "    <tr>\n",
       "      <th>112402</th>\n",
       "      <td>Introduction</td>\n",
       "      <td>736582</td>\n",
       "      <td>2</td>\n",
       "      <td>35.0</td>\n",
       "      <td>297269.069000</td>\n",
       "      <td>5.044289e+06</td>\n",
       "      <td>-73.596430</td>\n",
       "      <td>45.538473</td>\n",
       "      <td>7920</td>\n",
       "    </tr>\n",
       "    <tr>\n",
       "      <th>139400</th>\n",
       "      <td>Méfait</td>\n",
       "      <td>736175</td>\n",
       "      <td>2</td>\n",
       "      <td>33.0</td>\n",
       "      <td>295536.084991</td>\n",
       "      <td>5.043175e+06</td>\n",
       "      <td>-73.618600</td>\n",
       "      <td>45.528427</td>\n",
       "      <td>2952</td>\n",
       "    </tr>\n",
       "    <tr>\n",
       "      <th>73968</th>\n",
       "      <td>Vol dans / sur véhicule à moteur</td>\n",
       "      <td>736543</td>\n",
       "      <td>2</td>\n",
       "      <td>31.0</td>\n",
       "      <td>NaN</td>\n",
       "      <td>NaN</td>\n",
       "      <td>NaN</td>\n",
       "      <td>NaN</td>\n",
       "      <td>7572</td>\n",
       "    </tr>\n",
       "    <tr>\n",
       "      <th>0</th>\n",
       "      <td>Vol de véhicule à moteur</td>\n",
       "      <td>736950</td>\n",
       "      <td>1</td>\n",
       "      <td>30.0</td>\n",
       "      <td>294904.159001</td>\n",
       "      <td>5.047549e+06</td>\n",
       "      <td>-73.626778</td>\n",
       "      <td>45.567780</td>\n",
       "      <td>7203</td>\n",
       "    </tr>\n",
       "    <tr>\n",
       "      <th>130317</th>\n",
       "      <td>Vol de véhicule à moteur</td>\n",
       "      <td>736587</td>\n",
       "      <td>3</td>\n",
       "      <td>27.0</td>\n",
       "      <td>292211.629998</td>\n",
       "      <td>5.046759e+06</td>\n",
       "      <td>-73.661252</td>\n",
       "      <td>45.560631</td>\n",
       "      <td>9083</td>\n",
       "    </tr>\n",
       "    <tr>\n",
       "      <th>228671</th>\n",
       "      <td>Vol de véhicule à moteur</td>\n",
       "      <td>736425</td>\n",
       "      <td>3</td>\n",
       "      <td>26.0</td>\n",
       "      <td>NaN</td>\n",
       "      <td>NaN</td>\n",
       "      <td>NaN</td>\n",
       "      <td>NaN</td>\n",
       "      <td>10663</td>\n",
       "    </tr>\n",
       "    <tr>\n",
       "      <th>164987</th>\n",
       "      <td>Introduction</td>\n",
       "      <td>736863</td>\n",
       "      <td>1</td>\n",
       "      <td>24.0</td>\n",
       "      <td>295435.804000</td>\n",
       "      <td>5.041998e+06</td>\n",
       "      <td>-73.619861</td>\n",
       "      <td>45.517839</td>\n",
       "      <td>2532</td>\n",
       "    </tr>\n",
       "    <tr>\n",
       "      <th>155354</th>\n",
       "      <td>Introduction</td>\n",
       "      <td>736566</td>\n",
       "      <td>2</td>\n",
       "      <td>23.0</td>\n",
       "      <td>301167.086997</td>\n",
       "      <td>5.044718e+06</td>\n",
       "      <td>-73.546521</td>\n",
       "      <td>45.542364</td>\n",
       "      <td>9633</td>\n",
       "    </tr>\n",
       "    <tr>\n",
       "      <th>81540</th>\n",
       "      <td>Introduction</td>\n",
       "      <td>736544</td>\n",
       "      <td>1</td>\n",
       "      <td>22.0</td>\n",
       "      <td>300495.602994</td>\n",
       "      <td>5.042438e+06</td>\n",
       "      <td>-73.555100</td>\n",
       "      <td>45.521848</td>\n",
       "      <td>7564</td>\n",
       "    </tr>\n",
       "    <tr>\n",
       "      <th>18453</th>\n",
       "      <td>Méfait</td>\n",
       "      <td>736531</td>\n",
       "      <td>1</td>\n",
       "      <td>21.0</td>\n",
       "      <td>NaN</td>\n",
       "      <td>NaN</td>\n",
       "      <td>NaN</td>\n",
       "      <td>NaN</td>\n",
       "      <td>14549</td>\n",
       "    </tr>\n",
       "    <tr>\n",
       "      <th>214866</th>\n",
       "      <td>Vol dans / sur véhicule à moteur</td>\n",
       "      <td>736131</td>\n",
       "      <td>2</td>\n",
       "      <td>20.0</td>\n",
       "      <td>NaN</td>\n",
       "      <td>NaN</td>\n",
       "      <td>NaN</td>\n",
       "      <td>NaN</td>\n",
       "      <td>13805</td>\n",
       "    </tr>\n",
       "    <tr>\n",
       "      <th>106352</th>\n",
       "      <td>Introduction</td>\n",
       "      <td>736566</td>\n",
       "      <td>2</td>\n",
       "      <td>16.0</td>\n",
       "      <td>301261.624000</td>\n",
       "      <td>5.036461e+06</td>\n",
       "      <td>-73.545251</td>\n",
       "      <td>45.468067</td>\n",
       "      <td>6050</td>\n",
       "    </tr>\n",
       "    <tr>\n",
       "      <th>205455</th>\n",
       "      <td>Méfait</td>\n",
       "      <td>736103</td>\n",
       "      <td>2</td>\n",
       "      <td>15.0</td>\n",
       "      <td>NaN</td>\n",
       "      <td>NaN</td>\n",
       "      <td>NaN</td>\n",
       "      <td>NaN</td>\n",
       "      <td>9411</td>\n",
       "    </tr>\n",
       "    <tr>\n",
       "      <th>239334</th>\n",
       "      <td>Introduction</td>\n",
       "      <td>736880</td>\n",
       "      <td>2</td>\n",
       "      <td>13.0</td>\n",
       "      <td>293717.947000</td>\n",
       "      <td>5.032865e+06</td>\n",
       "      <td>-73.641643</td>\n",
       "      <td>45.435630</td>\n",
       "      <td>6322</td>\n",
       "    </tr>\n",
       "    <tr>\n",
       "      <th>33002</th>\n",
       "      <td>Méfait</td>\n",
       "      <td>736539</td>\n",
       "      <td>1</td>\n",
       "      <td>12.0</td>\n",
       "      <td>NaN</td>\n",
       "      <td>NaN</td>\n",
       "      <td>NaN</td>\n",
       "      <td>NaN</td>\n",
       "      <td>5149</td>\n",
       "    </tr>\n",
       "    <tr>\n",
       "      <th>196465</th>\n",
       "      <td>Méfait</td>\n",
       "      <td>736055</td>\n",
       "      <td>1</td>\n",
       "      <td>11.0</td>\n",
       "      <td>294581.145005</td>\n",
       "      <td>5.036889e+06</td>\n",
       "      <td>-73.630694</td>\n",
       "      <td>45.471853</td>\n",
       "      <td>3890</td>\n",
       "    </tr>\n",
       "    <tr>\n",
       "      <th>200355</th>\n",
       "      <td>Introduction</td>\n",
       "      <td>736056</td>\n",
       "      <td>1</td>\n",
       "      <td>10.0</td>\n",
       "      <td>289187.443990</td>\n",
       "      <td>5.043659e+06</td>\n",
       "      <td>-73.699892</td>\n",
       "      <td>45.532672</td>\n",
       "      <td>5100</td>\n",
       "    </tr>\n",
       "    <tr>\n",
       "      <th>142352</th>\n",
       "      <td>Vol de véhicule à moteur</td>\n",
       "      <td>737059</td>\n",
       "      <td>3</td>\n",
       "      <td>9.0</td>\n",
       "      <td>291612.374992</td>\n",
       "      <td>5.035291e+06</td>\n",
       "      <td>-73.668620</td>\n",
       "      <td>45.457424</td>\n",
       "      <td>4529</td>\n",
       "    </tr>\n",
       "    <tr>\n",
       "      <th>101062</th>\n",
       "      <td>Méfait</td>\n",
       "      <td>736983</td>\n",
       "      <td>1</td>\n",
       "      <td>8.0</td>\n",
       "      <td>292010.969000</td>\n",
       "      <td>5.032898e+06</td>\n",
       "      <td>-73.663461</td>\n",
       "      <td>45.435898</td>\n",
       "      <td>5290</td>\n",
       "    </tr>\n",
       "    <tr>\n",
       "      <th>7203</th>\n",
       "      <td>Vol de véhicule à moteur</td>\n",
       "      <td>736938</td>\n",
       "      <td>3</td>\n",
       "      <td>7.0</td>\n",
       "      <td>290274.565000</td>\n",
       "      <td>5.042150e+06</td>\n",
       "      <td>-73.685928</td>\n",
       "      <td>45.519122</td>\n",
       "      <td>11250</td>\n",
       "    </tr>\n",
       "    <tr>\n",
       "      <th>66951</th>\n",
       "      <td>Vol de véhicule à moteur</td>\n",
       "      <td>736542</td>\n",
       "      <td>1</td>\n",
       "      <td>5.0</td>\n",
       "      <td>285957.555992</td>\n",
       "      <td>5.033791e+06</td>\n",
       "      <td>-73.740866</td>\n",
       "      <td>45.443794</td>\n",
       "      <td>7017</td>\n",
       "    </tr>\n",
       "    <tr>\n",
       "      <th>146881</th>\n",
       "      <td>Introduction</td>\n",
       "      <td>736923</td>\n",
       "      <td>2</td>\n",
       "      <td>4.0</td>\n",
       "      <td>280815.902485</td>\n",
       "      <td>5.039046e+06</td>\n",
       "      <td>-73.806848</td>\n",
       "      <td>45.490925</td>\n",
       "      <td>3163</td>\n",
       "    </tr>\n",
       "    <tr>\n",
       "      <th>191938</th>\n",
       "      <td>Méfait</td>\n",
       "      <td>736557</td>\n",
       "      <td>1</td>\n",
       "      <td>3.0</td>\n",
       "      <td>277733.688003</td>\n",
       "      <td>5.038854e+06</td>\n",
       "      <td>-73.846270</td>\n",
       "      <td>45.489081</td>\n",
       "      <td>4527</td>\n",
       "    </tr>\n",
       "    <tr>\n",
       "      <th>189088</th>\n",
       "      <td>Méfait</td>\n",
       "      <td>736581</td>\n",
       "      <td>2</td>\n",
       "      <td>1.0</td>\n",
       "      <td>276530.594007</td>\n",
       "      <td>5.034619e+06</td>\n",
       "      <td>-73.861418</td>\n",
       "      <td>45.450930</td>\n",
       "      <td>2850</td>\n",
       "    </tr>\n",
       "  </tbody>\n",
       "</table>\n",
       "</div>"
      ],
      "text/plain": [
       "                               CATEGORIE    DATE  QUART   PDQ              X  \\\n",
       "245656          Vol de véhicule à moteur  736613      2  55.0  285459.663000   \n",
       "245748                    Vols qualifiés  735742      2  50.0  302277.936001   \n",
       "167519  Vol dans / sur véhicule à moteur  736829      1  49.0  305817.012000   \n",
       "89104                       Introduction  736545      1  48.0  302206.204009   \n",
       "183309          Vol de véhicule à moteur  736728      3  46.0  300206.969004   \n",
       "150044  Vol dans / sur véhicule à moteur  736544      1  45.0  296483.624000   \n",
       "120322  Vol dans / sur véhicule à moteur  736586      1  44.0  299537.390996   \n",
       "173946  Vol dans / sur véhicule à moteur  736727      2  42.0  298486.799994   \n",
       "55647   Vol dans / sur véhicule à moteur  736542      1  39.0  294259.780993   \n",
       "38151                             Méfait  736540      1  38.0  297654.715002   \n",
       "112402                      Introduction  736582      2  35.0  297269.069000   \n",
       "139400                            Méfait  736175      2  33.0  295536.084991   \n",
       "73968   Vol dans / sur véhicule à moteur  736543      2  31.0            NaN   \n",
       "0               Vol de véhicule à moteur  736950      1  30.0  294904.159001   \n",
       "130317          Vol de véhicule à moteur  736587      3  27.0  292211.629998   \n",
       "228671          Vol de véhicule à moteur  736425      3  26.0            NaN   \n",
       "164987                      Introduction  736863      1  24.0  295435.804000   \n",
       "155354                      Introduction  736566      2  23.0  301167.086997   \n",
       "81540                       Introduction  736544      1  22.0  300495.602994   \n",
       "18453                             Méfait  736531      1  21.0            NaN   \n",
       "214866  Vol dans / sur véhicule à moteur  736131      2  20.0            NaN   \n",
       "106352                      Introduction  736566      2  16.0  301261.624000   \n",
       "205455                            Méfait  736103      2  15.0            NaN   \n",
       "239334                      Introduction  736880      2  13.0  293717.947000   \n",
       "33002                             Méfait  736539      1  12.0            NaN   \n",
       "196465                            Méfait  736055      1  11.0  294581.145005   \n",
       "200355                      Introduction  736056      1  10.0  289187.443990   \n",
       "142352          Vol de véhicule à moteur  737059      3   9.0  291612.374992   \n",
       "101062                            Méfait  736983      1   8.0  292010.969000   \n",
       "7203            Vol de véhicule à moteur  736938      3   7.0  290274.565000   \n",
       "66951           Vol de véhicule à moteur  736542      1   5.0  285957.555992   \n",
       "146881                      Introduction  736923      2   4.0  280815.902485   \n",
       "191938                            Méfait  736557      1   3.0  277733.688003   \n",
       "189088                            Méfait  736581      2   1.0  276530.594007   \n",
       "\n",
       "                   Y  LONGITUDE   LATITUDE  crime_count  \n",
       "245656  5.035175e+06 -73.747285  45.456239           92  \n",
       "245748  5.041476e+06 -73.532280  45.513197         2028  \n",
       "167519  5.061471e+06 -73.486942  45.693121         6427  \n",
       "89104   5.050672e+06 -73.533246  45.595949        11958  \n",
       "183309  5.052306e+06 -73.558887  45.610645         5779  \n",
       "150044  5.055234e+06 -73.606674  45.636951         5310  \n",
       "120322  5.048547e+06 -73.567431  45.576815         9995  \n",
       "173946  5.048363e+06 -73.580891  45.575146         9363  \n",
       "55647   5.051450e+06 -73.635117  45.602873        11304  \n",
       "38151   5.041877e+06 -73.591457  45.516776        17496  \n",
       "112402  5.044289e+06 -73.596430  45.538473         7920  \n",
       "139400  5.043175e+06 -73.618600  45.528427         2952  \n",
       "73968            NaN        NaN        NaN         7572  \n",
       "0       5.047549e+06 -73.626778  45.567780         7203  \n",
       "130317  5.046759e+06 -73.661252  45.560631         9083  \n",
       "228671           NaN        NaN        NaN        10663  \n",
       "164987  5.041998e+06 -73.619861  45.517839         2532  \n",
       "155354  5.044718e+06 -73.546521  45.542364         9633  \n",
       "81540   5.042438e+06 -73.555100  45.521848         7564  \n",
       "18453            NaN        NaN        NaN        14549  \n",
       "214866           NaN        NaN        NaN        13805  \n",
       "106352  5.036461e+06 -73.545251  45.468067         6050  \n",
       "205455           NaN        NaN        NaN         9411  \n",
       "239334  5.032865e+06 -73.641643  45.435630         6322  \n",
       "33002            NaN        NaN        NaN         5149  \n",
       "196465  5.036889e+06 -73.630694  45.471853         3890  \n",
       "200355  5.043659e+06 -73.699892  45.532672         5100  \n",
       "142352  5.035291e+06 -73.668620  45.457424         4529  \n",
       "101062  5.032898e+06 -73.663461  45.435898         5290  \n",
       "7203    5.042150e+06 -73.685928  45.519122        11250  \n",
       "66951   5.033791e+06 -73.740866  45.443794         7017  \n",
       "146881  5.039046e+06 -73.806848  45.490925         3163  \n",
       "191938  5.038854e+06 -73.846270  45.489081         4527  \n",
       "189088  5.034619e+06 -73.861418  45.450930         2850  "
      ]
     },
     "execution_count": 31,
     "metadata": {},
     "output_type": "execute_result"
    }
   ],
   "source": [
    "\n",
    "\n",
    "#clean data\n",
    "crime_freq = df.dropna(subset=['PDQ'])\n",
    "\n",
    "#crime freq\n",
    "crime_freq = crime_freq.groupby('PDQ').agg({'CATEGORIE': 'count'}).sort_values(by='CATEGORIE',ascending=False)\n",
    "crime_freq = crime_freq.rename(columns={'CATEGORIE': 'crime_count'})\n",
    "\n",
    "# joining to main table\n",
    "combined_table = pd.merge(df, crime_freq, on=\"PDQ\", how='inner')\n",
    "crime_combined_table = combined_table.drop_duplicates(subset=['PDQ']).sort_values(by='PDQ', ascending=False)\n",
    "\n",
    "crime_combined_table"
   ]
  },
  {
   "cell_type": "code",
   "execution_count": 32,
   "metadata": {
    "ExecuteTime": {
     "end_time": "2023-04-15T20:17:38.327769Z",
     "start_time": "2023-04-15T20:17:38.140416Z"
    },
    "collapsed": false
   },
   "outputs": [],
   "source": [
    "## crime freq heat map code\n",
    "\n",
    "fig = px.choropleth_mapbox(combined_table, geojson=geojson,\n",
    "                           color = \"crime_count\", # Might need to change depending on what you want to measure\n",
    "                           locations=\"PDQ\", featureidkey=\"properties.PDQ\",\n",
    "                           center={'lat': 45.508888, 'lon': -73.561668}, # Can change the coordinates to make city more centered\n",
    "                           mapbox_style=\"carto-positron\", # Another option is called \"open-street-map\" :o\n",
    "                           zoom=9\n",
    "                           )\n",
    "\n",
    "# .update_layout() updates the layout of the figure (includes all non-date components of the visualization)\n",
    "# We are just setting the plot to take up the entire avaliable space, with no padding or spacing around the edges.\n",
    "# fig.update_layout(margin={\"r\":0,\"t\":0,\"l\":0,\"b\":0})\n",
    "\n",
    "# Let's see our graph in action!\n",
    "# fig.show()"
   ]
  },
  {
   "cell_type": "code",
   "execution_count": 33,
   "metadata": {
    "ExecuteTime": {
     "end_time": "2023-04-15T20:17:38.554798Z",
     "start_time": "2023-04-15T20:17:38.321771Z"
    },
    "collapsed": false
   },
   "outputs": [],
   "source": [
    "df = pd.read_csv(criminalLogsPath)"
   ]
  },
  {
   "cell_type": "code",
   "execution_count": 34,
   "metadata": {
    "ExecuteTime": {
     "end_time": "2023-04-15T20:17:39.190511Z",
     "start_time": "2023-04-15T20:17:38.557797Z"
    },
    "collapsed": false
   },
   "outputs": [
    {
     "data": {
      "text/plain": [
       "<AxesSubplot: xlabel='PDQ'>"
      ]
     },
     "execution_count": 34,
     "metadata": {},
     "output_type": "execute_result"
    },
    {
     "data": {
      "image/png": "[encoded data removed]",
      "text/plain": [
       "<Figure size 640x480 with 1 Axes>"
      ]
     },
     "metadata": {},
     "output_type": "display_data"
    }
   ],
   "source": [
    "# Top 3 police precints (PDQ) got that most or least  crime complaints\n",
    "# Group by PDQ and count the number of crimes and sort by count and list the time range of the crimes\n",
    "pdq_date_df =  df.groupby('PDQ')['CATEGORIE'].agg(['count']).sort_values(by='count', ascending=False)\n",
    "pdq_date_df.plot(kind = 'bar')\n"
   ]
  },
  {
   "cell_type": "code",
   "execution_count": 35,
   "metadata": {
    "ExecuteTime": {
     "end_time": "2023-04-15T20:17:39.239940Z",
     "start_time": "2023-04-15T20:17:39.183512Z"
    },
    "collapsed": false
   },
   "outputs": [
    {
     "data": {
      "text/html": [
       "<div>\n",
       "<style scoped>\n",
       "    .dataframe tbody tr th:only-of-type {\n",
       "        vertical-align: middle;\n",
       "    }\n",
       "\n",
       "    .dataframe tbody tr th {\n",
       "        vertical-align: top;\n",
       "    }\n",
       "\n",
       "    .dataframe thead th {\n",
       "        text-align: right;\n",
       "    }\n",
       "</style>\n",
       "<table border=\"1\" class=\"dataframe\">\n",
       "  <thead>\n",
       "    <tr style=\"text-align: right;\">\n",
       "      <th></th>\n",
       "      <th>count</th>\n",
       "    </tr>\n",
       "    <tr>\n",
       "      <th>QUART</th>\n",
       "      <th></th>\n",
       "    </tr>\n",
       "  </thead>\n",
       "  <tbody>\n",
       "    <tr>\n",
       "      <th>jour</th>\n",
       "      <td>126228</td>\n",
       "    </tr>\n",
       "    <tr>\n",
       "      <th>soir</th>\n",
       "      <td>82795</td>\n",
       "    </tr>\n",
       "    <tr>\n",
       "      <th>nuit</th>\n",
       "      <td>38758</td>\n",
       "    </tr>\n",
       "  </tbody>\n",
       "</table>\n",
       "</div>"
      ],
      "text/plain": [
       "        count\n",
       "QUART        \n",
       "jour   126228\n",
       "soir    82795\n",
       "nuit    38758"
      ]
     },
     "execution_count": 35,
     "metadata": {},
     "output_type": "execute_result"
    }
   ],
   "source": [
    "# When does the most crime happen?\n",
    "\n",
    "# Group by time of the day (QUART) and count the number of crimes and sort by count\n",
    "\n",
    "df.groupby('QUART')['CATEGORIE'].agg(['count']).sort_values(by='count', ascending=False)"
   ]
  },
  {
   "cell_type": "code",
   "execution_count": 36,
   "metadata": {
    "ExecuteTime": {
     "end_time": "2023-04-15T20:17:39.416622Z",
     "start_time": "2023-04-15T20:17:39.214940Z"
    },
    "collapsed": false
   },
   "outputs": [
    {
     "data": {
      "text/plain": [
       "<AxesSubplot: xlabel='QUART'>"
      ]
     },
     "execution_count": 36,
     "metadata": {},
     "output_type": "execute_result"
    },
    {
     "data": {
      "image/png": "[encoded data removed]",
      "text/plain": [
       "<Figure size 640x480 with 1 Axes>"
      ]
     },
     "metadata": {},
     "output_type": "display_data"
    }
   ],
   "source": [
    "\n",
    "df.groupby('QUART')['CATEGORIE'].agg(['count']).sort_values(by='count', ascending=False).plot(kind='bar')\n",
    "\n"
   ]
  }
 ],
 "metadata": {
  "kernelspec": {
   "display_name": "base",
   "language": "python",
   "name": "python3"
  },
  "language_info": {
   "codemirror_mode": {
    "name": "ipython",
    "version": 3
   },
   "file_extension": ".py",
   "mimetype": "text/x-python",
   "name": "python",
   "nbconvert_exporter": "python",
   "pygments_lexer": "ipython3",
   "version": "3.10.10"
  },
  "orig_nbformat": 4
 },
 "nbformat": 4,
 "nbformat_minor": 2
}
