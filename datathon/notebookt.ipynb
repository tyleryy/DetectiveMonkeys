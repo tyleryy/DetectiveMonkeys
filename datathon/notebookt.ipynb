{
 "cells": [
  {
   "attachments": {},
   "cell_type": "markdown",
   "metadata": {},
   "source": [
    "# Detective monkeys"
   ]
  },
  {
   "cell_type": "code",
   "execution_count": null,
   "metadata": {
    "ExecuteTime": {
     "end_time": "2023-04-15T11:48:58.558769Z",
     "start_time": "2023-04-15T11:48:58.512480Z"
    }
   },
   "outputs": [],
   "source": [
    "import pandas as pd\n",
    "import numpy as np\n",
    "import seaborn as sns\n",
    "import plotly.express as px\n",
    "from pathlib import Path\n",
    "import json\n"
   ]
  },
  {
   "cell_type": "code",
   "execution_count": null,
   "metadata": {},
   "outputs": [],
   "source": [
    "# Loads the geojson into a JSON object\n",
    "geojsonPath = Path.cwd()/'limitespdq.geojson' # You might need to change this depending on where and how you are running this code\n",
    "geojson = json.load(open(geojsonPath, \"r\")) # The GeoJSON data contains the boundaries of the different precincts.\n",
    "\n",
    "# Loads the criminal logs into a pandas dataframe\n",
    "# You will probably need to manipulate the dataframe to get something good from it :D\n",
    "criminalLogsPath = Path.cwd()/'actes-criminels.csv'\n",
    "df = pd.read_csv(criminalLogsPath)"
   ]
  },
  {
   "cell_type": "markdown",
   "metadata": {},
   "source": []
  },
  {
   "cell_type": "code",
   "execution_count": null,
   "metadata": {
    "ExecuteTime": {
     "end_time": "2023-04-15T11:48:58.748718Z",
     "start_time": "2023-04-15T11:48:58.532719Z"
    }
   },
   "outputs": [],
   "source": [
    "df: pd.DataFrame = pd.read_csv('actes-criminels.csv')"
   ]
  },
  {
   "cell_type": "code",
   "execution_count": null,
   "metadata": {
    "ExecuteTime": {
     "end_time": "2023-04-15T11:48:58.764719Z",
     "start_time": "2023-04-15T11:48:58.755719Z"
    },
    "collapsed": false
   },
   "outputs": [],
   "source": [
    "df.head()"
   ]
  },
  {
   "cell_type": "code",
   "execution_count": null,
   "metadata": {
    "ExecuteTime": {
     "end_time": "2023-04-15T11:48:58.872760Z",
     "start_time": "2023-04-15T11:48:58.767764Z"
    },
    "collapsed": false
   },
   "outputs": [],
   "source": [
    "# Summarize the data\n",
    "df.describe()"
   ]
  },
  {
   "cell_type": "code",
   "execution_count": null,
   "metadata": {
    "ExecuteTime": {
     "end_time": "2023-04-15T11:48:58.874763Z",
     "start_time": "2023-04-15T11:48:58.829720Z"
    },
    "collapsed": false
   },
   "outputs": [],
   "source": [
    "\n",
    "# What is the most common crime?\n",
    "df['CATEGORIE'].value_counts()"
   ]
  },
  {
   "cell_type": "code",
   "execution_count": null,
   "metadata": {
    "ExecuteTime": {
     "end_time": "2023-04-15T11:48:58.949248Z",
     "start_time": "2023-04-15T11:48:58.860720Z"
    },
    "collapsed": false
   },
   "outputs": [],
   "source": [
    "\n",
    "\n",
    "#clean data\n",
    "crime_freq = df.dropna(subset=['PDQ'])\n",
    "\n",
    "#crime freq\n",
    "crime_freq = crime_freq.groupby('PDQ').agg({'CATEGORIE': 'count'}).sort_values(by='CATEGORIE',ascending=False)\n",
    "crime_freq = crime_freq.rename(columns={'CATEGORIE': 'crime_count'})\n",
    "\n",
    "# joining to main table\n",
    "combined_table = pd.merge(df, crime_freq, on=\"PDQ\", how='inner')\n",
    "crime_combined_table = combined_table.drop_duplicates(subset=['PDQ']).sort_values(by='PDQ', ascending=False)\n",
    "\n",
    "crime_combined_table"
   ]
  },
  {
   "cell_type": "code",
   "execution_count": null,
   "metadata": {},
   "outputs": [],
   "source": [
    "## crime freq heat map code \n",
    "\n",
    "fig = px.choropleth_mapbox(combined_table, geojson=geojson, \n",
    "                           color = \"crime_count\", # Might need to change depending on what you want to measure\n",
    "                           locations=\"PDQ\", featureidkey=\"properties.PDQ\",\n",
    "                           center={'lat': 45.508888, 'lon': -73.561668}, # Can change the coordinates to make city more centered\n",
    "                           mapbox_style=\"carto-positron\", # Another option is called \"open-street-map\" :o\n",
    "                           zoom=9\n",
    "                           )\n",
    "\n",
    "# .update_layout() updates the layout of the figure (includes all non-date components of the visualization)\n",
    "# We are just setting the plot to take up the entire avaliable space, with no padding or spacing around the edges.\n",
    "fig.update_layout(margin={\"r\":0,\"t\":0,\"l\":0,\"b\":0})\n",
    "\n",
    "# Let's see our graph in action!\n",
    "fig.show()"
   ]
  },
  {
   "cell_type": "code",
   "execution_count": null,
   "metadata": {
    "ExecuteTime": {
     "end_time": "2023-04-15T11:48:59.058692Z",
     "start_time": "2023-04-15T11:48:58.891720Z"
    },
    "collapsed": false
   },
   "outputs": [],
   "source": [
    "# Top 3 police precints (PDQ) got that most or least  crime complaints\n",
    "# Group by PDQ and count the number of crimes and sort by count and list the time range of the crimes\n",
    "df.groupby('PDQ')['DATE'].agg(['count', 'min', 'max']).sort_values(by='count', ascending=False)\n"
   ]
  },
  {
   "attachments": {},
   "cell_type": "markdown",
   "metadata": {},
   "source": [
    "# Statistical Analysis of Predicting PDQ based on crime"
   ]
  },
  {
   "cell_type": "code",
   "execution_count": null,
   "metadata": {
    "collapsed": false
   },
   "outputs": [],
   "source": [
    "from scipy.stats import chi2_contingency\n",
    "\n",
    "df_nona = df.dropna(subset=\"PDQ\")\n",
    "\n",
    "ct = pd.crosstab(df_nona[\"CATEGORIE\"], df_nona[\"PDQ\"])\n",
    "c, p, d, e = chi2_contingency(ct)\n",
    "print(\"Chi2-statistics: \" + str(c))\n",
    "print(\"P-value: \" + str(p))"
   ]
  },
  {
   "cell_type": "code",
   "execution_count": null,
   "metadata": {},
   "outputs": [],
   "source": [
    "import pyproj\n",
    "\n",
    "# Define the source and target coordinate systems (CRS)\n",
    "src_crs = pyproj.CRS(\"EPSG:4326\")  # WGS84\n",
    "tgt_crs = pyproj.CRS(\"EPSG:2950\")  # MTM8 with SRID 2950\n",
    "\n",
    "# Create a transformer to convert coordinates from source CRS to target CRS\n",
    "transformer = pyproj.Transformer.from_crs(src_crs, tgt_crs, always_xy=True)\n",
    "\n",
    "def trans(lon, lat):\n",
    "    return transformer.transform(lon, lat)"
   ]
  },
  {
   "cell_type": "code",
   "execution_count": null,
   "metadata": {},
   "outputs": [],
   "source": [
    "from shapely.geometry import Point, MultiPolygon, Polygon\n",
    "import random\n",
    "\n",
    "d = {i['properties']['PDQ'] : MultiPolygon([Polygon(i[\"geometry\"]['coordinates'][0][0])]) for i in geojson['features']}\n",
    "\n",
    "multipolygon = MultiPolygon([Polygon(geojson['features'][0][\"geometry\"]['coordinates'][0][0])])\n",
    "\n",
    "def gen_random_point(multipolygon):\n",
    "    minx, miny, maxx, maxy = multipolygon.bounds\n",
    "    while True:\n",
    "        x = random.uniform(minx, maxx)\n",
    "        y = random.uniform(miny, maxy)\n",
    "        random_point = Point(x, y)\n",
    "\n",
    "        if multipolygon.contains(random_point):\n",
    "            return x, y\n",
    "\n",
    "def fill_na_cord(d, df):\n",
    "    for index, row in df.iterrows():\n",
    "        if (row.isnull()[\"LATITUDE\"]):\n",
    "            pdq = int(row[\"PDQ\"])\n",
    "            if (pdq in d.keys()):\n",
    "                lon, lat = gen_random_point(d[pdq])\n",
    "                x, y = trans(lon, lat)\n",
    "                df.at[index, \"LONGITUDE\"] = lon\n",
    "                df.at[index, \"LATITUDE\"] = lat\n",
    "                df.at[index, \"X\"] = x\n",
    "                df.at[index, \"Y\"] = y\n",
    "                \n",
    "\n",
    "test = df.dropna(subset=\"PDQ\")\n",
    "fill_na_cord(d, test)\n",
    "test\n"
   ]
  },
  {
   "cell_type": "code",
   "execution_count": null,
   "metadata": {},
   "outputs": [],
   "source": [
    "test.isnull().sum()"
   ]
  },
  {
   "cell_type": "code",
   "execution_count": null,
   "metadata": {},
   "outputs": [],
   "source": [
    "import plotly.express as px\n",
    "\n",
    "fig = px.scatter_mapbox(test, lon=\"LONGITUDE\", lat=\"LATITUDE\",\n",
    "                        color=\"CATEGORIE\",\n",
    "                        zoom=8,\n",
    "                        mapbox_style=\"open-street-map\")\n",
    "fig.show()\n",
    "    "
   ]
  }
 ],
 "metadata": {
  "kernelspec": {
   "display_name": "base",
   "language": "python",
   "name": "python3"
  },
  "language_info": {
   "codemirror_mode": {
    "name": "ipython",
    "version": 3
   },
   "file_extension": ".py",
   "mimetype": "text/x-python",
   "name": "python",
   "nbconvert_exporter": "python",
   "pygments_lexer": "ipython3",
   "version": "3.10.10"
  },
  "orig_nbformat": 4
 },
 "nbformat": 4,
 "nbformat_minor": 2
}
