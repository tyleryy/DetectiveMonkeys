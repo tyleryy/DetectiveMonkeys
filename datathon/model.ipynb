{
 "cells": [
  {
   "attachments": {},
   "cell_type": "markdown",
   "metadata": {},
   "source": [
    "# ML model for predicting crime based place"
   ]
  },
  {
   "cell_type": "code",
   "execution_count": 8,
   "metadata": {},
   "outputs": [],
   "source": [
    "import numpy as np\n",
    "import seaborn as sb\n",
    "import pandas as pd\n",
    "from pathlib import Path\n",
    "from sklearn.metrics import accuracy_score\n",
    "from sklearn.neural_network import MLPClassifier\n",
    "\n",
    "\n",
    "seed = np.random.seed(5)"
   ]
  },
  {
   "cell_type": "code",
   "execution_count": 9,
   "metadata": {},
   "outputs": [],
   "source": [
    "# construct dataset\n",
    "\n",
    "# Loads the criminal logs into a pandas dataframe\n",
    "# You will probably need to manipulate the dataframe to get something good from it :D\n",
    "criminalLogsPath = Path.cwd()/'actes-criminels.csv'\n",
    "df = pd.read_csv(criminalLogsPath)\n"
   ]
  },
  {
   "cell_type": "code",
   "execution_count": 10,
   "metadata": {},
   "outputs": [
    {
     "data": {
      "text/html": [
       "<div>\n",
       "<style scoped>\n",
       "    .dataframe tbody tr th:only-of-type {\n",
       "        vertical-align: middle;\n",
       "    }\n",
       "\n",
       "    .dataframe tbody tr th {\n",
       "        vertical-align: top;\n",
       "    }\n",
       "\n",
       "    .dataframe thead th {\n",
       "        text-align: right;\n",
       "    }\n",
       "</style>\n",
       "<table border=\"1\" class=\"dataframe\">\n",
       "  <thead>\n",
       "    <tr style=\"text-align: right;\">\n",
       "      <th></th>\n",
       "      <th>PDQ</th>\n",
       "      <th>DATE</th>\n",
       "      <th>QUART</th>\n",
       "      <th>LONGITUDE</th>\n",
       "      <th>LATITUDE</th>\n",
       "    </tr>\n",
       "  </thead>\n",
       "  <tbody>\n",
       "    <tr>\n",
       "      <th>0</th>\n",
       "      <td>30.0</td>\n",
       "      <td>2018-09-13</td>\n",
       "      <td>jour</td>\n",
       "      <td>-73.626778</td>\n",
       "      <td>45.567780</td>\n",
       "    </tr>\n",
       "    <tr>\n",
       "      <th>1</th>\n",
       "      <td>30.0</td>\n",
       "      <td>2018-04-30</td>\n",
       "      <td>jour</td>\n",
       "      <td>-73.626778</td>\n",
       "      <td>45.567780</td>\n",
       "    </tr>\n",
       "    <tr>\n",
       "      <th>2</th>\n",
       "      <td>7.0</td>\n",
       "      <td>2018-09-01</td>\n",
       "      <td>nuit</td>\n",
       "      <td>-73.685928</td>\n",
       "      <td>45.519122</td>\n",
       "    </tr>\n",
       "    <tr>\n",
       "      <th>6</th>\n",
       "      <td>38.0</td>\n",
       "      <td>2017-07-30</td>\n",
       "      <td>jour</td>\n",
       "      <td>-73.591457</td>\n",
       "      <td>45.516776</td>\n",
       "    </tr>\n",
       "    <tr>\n",
       "      <th>8</th>\n",
       "      <td>39.0</td>\n",
       "      <td>2017-08-01</td>\n",
       "      <td>jour</td>\n",
       "      <td>-73.635117</td>\n",
       "      <td>45.602873</td>\n",
       "    </tr>\n",
       "    <tr>\n",
       "      <th>...</th>\n",
       "      <td>...</td>\n",
       "      <td>...</td>\n",
       "      <td>...</td>\n",
       "      <td>...</td>\n",
       "      <td>...</td>\n",
       "    </tr>\n",
       "    <tr>\n",
       "      <th>247774</th>\n",
       "      <td>31.0</td>\n",
       "      <td>2023-01-25</td>\n",
       "      <td>nuit</td>\n",
       "      <td>-73.625616</td>\n",
       "      <td>45.528455</td>\n",
       "    </tr>\n",
       "    <tr>\n",
       "      <th>247775</th>\n",
       "      <td>39.0</td>\n",
       "      <td>2023-01-25</td>\n",
       "      <td>nuit</td>\n",
       "      <td>-73.616734</td>\n",
       "      <td>45.617219</td>\n",
       "    </tr>\n",
       "    <tr>\n",
       "      <th>247776</th>\n",
       "      <td>5.0</td>\n",
       "      <td>2023-01-25</td>\n",
       "      <td>nuit</td>\n",
       "      <td>-73.787533</td>\n",
       "      <td>45.482397</td>\n",
       "    </tr>\n",
       "    <tr>\n",
       "      <th>247778</th>\n",
       "      <td>7.0</td>\n",
       "      <td>2023-01-25</td>\n",
       "      <td>nuit</td>\n",
       "      <td>-73.718913</td>\n",
       "      <td>45.505551</td>\n",
       "    </tr>\n",
       "    <tr>\n",
       "      <th>247779</th>\n",
       "      <td>22.0</td>\n",
       "      <td>2023-01-25</td>\n",
       "      <td>nuit</td>\n",
       "      <td>-73.558643</td>\n",
       "      <td>45.532059</td>\n",
       "    </tr>\n",
       "  </tbody>\n",
       "</table>\n",
       "<p>205753 rows × 5 columns</p>\n",
       "</div>"
      ],
      "text/plain": [
       "         PDQ        DATE QUART  LONGITUDE   LATITUDE\n",
       "0       30.0  2018-09-13  jour -73.626778  45.567780\n",
       "1       30.0  2018-04-30  jour -73.626778  45.567780\n",
       "2        7.0  2018-09-01  nuit -73.685928  45.519122\n",
       "6       38.0  2017-07-30  jour -73.591457  45.516776\n",
       "8       39.0  2017-08-01  jour -73.635117  45.602873\n",
       "...      ...         ...   ...        ...        ...\n",
       "247774  31.0  2023-01-25  nuit -73.625616  45.528455\n",
       "247775  39.0  2023-01-25  nuit -73.616734  45.617219\n",
       "247776   5.0  2023-01-25  nuit -73.787533  45.482397\n",
       "247778   7.0  2023-01-25  nuit -73.718913  45.505551\n",
       "247779  22.0  2023-01-25  nuit -73.558643  45.532059\n",
       "\n",
       "[205753 rows x 5 columns]"
      ]
     },
     "execution_count": 10,
     "metadata": {},
     "output_type": "execute_result"
    }
   ],
   "source": [
    "df_clean = df.dropna()\n",
    "X = df_clean.loc[:,[\"PDQ\", \"DATE\", \"QUART\", \"LONGITUDE\", \"LATITUDE\"]]\n",
    "Y = df_clean.loc[:, [\"CATEGORIE\"]]\n",
    "X"
   ]
  },
  {
   "cell_type": "code",
   "execution_count": 11,
   "metadata": {},
   "outputs": [],
   "source": [
    "from sklearn.model_selection import train_test_split\n",
    "from sklearn.preprocessing import StandardScaler, LabelEncoder\n",
    "from datetime import datetime\n",
    "\n",
    "# convert the Series to Unix timestamps\n",
    "def timestamp_converter(x: str):\n",
    "    return datetime.strptime(x, \"%Y-%m-%d\").timestamp()\n",
    "\n",
    "encoder = LabelEncoder()\n",
    "scaler = StandardScaler()\n",
    "\n",
    "# convert str vars to numerical data in testing and training\n",
    "X[\"DATE\"] = X[\"DATE\"].apply(timestamp_converter)\n",
    "X[\"QUART\"] = encoder.fit_transform(X[\"QUART\"])\n",
    "\n",
    "X_train, X_test, y_train, y_test = train_test_split(\n",
    "    X, Y, test_size=0.40, random_state=seed\n",
    ")\n",
    "\n",
    "X_train = scaler.fit_transform(X_train)\n",
    "X_test = scaler.fit_transform(X_test)\n",
    "\n",
    "\n",
    "# X_train = X_train[:, 1:]\n",
    "# X_test = X_test[1:]\n",
    "# y_train = y_train[1:]\n",
    "# y_test = y_test[1:]\n"
   ]
  },
  {
   "cell_type": "code",
   "execution_count": 12,
   "metadata": {},
   "outputs": [
    {
     "ename": "AttributeError",
     "evalue": "'numpy.ndarray' object has no attribute 'values'",
     "output_type": "error",
     "traceback": [
      "\u001b[0;31m---------------------------------------------------------------------------\u001b[0m",
      "\u001b[0;31mAttributeError\u001b[0m                            Traceback (most recent call last)",
      "Cell \u001b[0;32mIn[12], line 1\u001b[0m\n\u001b[0;32m----> 1\u001b[0m X_train \u001b[39m=\u001b[39m X_train\u001b[39m.\u001b[39;49mvalues\n\u001b[1;32m      2\u001b[0m X_test \u001b[39m=\u001b[39m X_test\u001b[39m.\u001b[39mvalues\n\u001b[1;32m      3\u001b[0m y_test \u001b[39m=\u001b[39m y_test\u001b[39m.\u001b[39mvalues\n",
      "\u001b[0;31mAttributeError\u001b[0m: 'numpy.ndarray' object has no attribute 'values'"
     ]
    }
   ],
   "source": [
    "# X_train = X_train.values\n",
    "# X_test = X_test.values\n",
    "# y_test = y_test.values\n",
    "# y_train = y_train.values\n",
    "\n",
    "# y_test"
   ]
  },
  {
   "cell_type": "code",
   "execution_count": 13,
   "metadata": {},
   "outputs": [
    {
     "name": "stderr",
     "output_type": "stream",
     "text": [
      "/Users/tyleryu/opt/anaconda3/envs/cs178/lib/python3.10/site-packages/sklearn/neural_network/_multilayer_perceptron.py:1118: DataConversionWarning: A column-vector y was passed when a 1d array was expected. Please change the shape of y to (n_samples, ), for example using ravel().\n",
      "  y = column_or_1d(y, warn=True)\n",
      "/Users/tyleryu/opt/anaconda3/envs/cs178/lib/python3.10/site-packages/sklearn/neural_network/_multilayer_perceptron.py:709: UserWarning: Training interrupted by user.\n",
      "  warnings.warn(\"Training interrupted by user.\")\n"
     ]
    },
    {
     "name": "stdout",
     "output_type": "stream",
     "text": [
      "['Introduction' 'Introduction' 'Introduction' ... 'Introduction'\n",
      " 'Introduction' 'Introduction']\n",
      "0.2801759402515978 0.2796894364656995\n"
     ]
    }
   ],
   "source": [
    "classifier = MLPClassifier((100,50, 200, 20, 5),\n",
    "                           solver='sgd',\n",
    "                           alpha=0.02,\n",
    "                           learning_rate='adaptive',\n",
    "                           learning_rate_init=0.01,\n",
    "                           batch_size=20000\n",
    "                           )\n",
    "classifier.fit(X_train, y_train)\n",
    "train_results = classifier.predict(X_train)\n",
    "test_results = classifier.predict(X_test)\n",
    "\n",
    "print(test_results) \n",
    "\n",
    "train_acc = accuracy_score(y_train, train_results)\n",
    "test_acc = accuracy_score(y_test, test_results)\n",
    "print(train_acc, test_acc)"
   ]
  }
 ],
 "metadata": {
  "kernelspec": {
   "display_name": "detective-monkeys",
   "language": "python",
   "name": "python3"
  },
  "language_info": {
   "codemirror_mode": {
    "name": "ipython",
    "version": 3
   },
   "file_extension": ".py",
   "mimetype": "text/x-python",
   "name": "python",
   "nbconvert_exporter": "python",
   "pygments_lexer": "ipython3",
   "version": "3.10.10"
  },
  "orig_nbformat": 4,
  "vscode": {
   "interpreter": {
    "hash": "461f869e802513af4ade233d91fa29bd35d0ad5c72d1da43775bab369bc727c0"
   }
  }
 },
 "nbformat": 4,
 "nbformat_minor": 2
}
