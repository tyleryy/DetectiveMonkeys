{
 "cells": [
  {
   "attachments": {},
   "cell_type": "markdown",
   "metadata": {},
   "source": [
    "# Detective monkeys"
   ]
  },
  {
   "cell_type": "code",
   "execution_count": 9,
   "metadata": {
    "ExecuteTime": {
     "start_time": "2023-04-15T11:48:58.512480Z",
     "end_time": "2023-04-15T11:48:58.558769Z"
    }
   },
   "outputs": [],
   "source": [
    "import pandas as pd\n",
    "import numpy as np\n",
    "import seaborn as sns"
   ]
  },
  {
   "cell_type": "markdown",
   "metadata": {},
   "source": []
  },
  {
   "cell_type": "code",
   "execution_count": 10,
   "metadata": {
    "ExecuteTime": {
     "start_time": "2023-04-15T11:48:58.532719Z",
     "end_time": "2023-04-15T11:48:58.748718Z"
    }
   },
   "outputs": [],
   "source": [
    "df: pd.DataFrame = pd.read_csv('actes-criminels.csv')"
   ]
  },
  {
   "cell_type": "code",
   "execution_count": 11,
   "outputs": [
    {
     "data": {
      "text/plain": "                  CATEGORIE        DATE QUART   PDQ              X  \\\n0  Vol de véhicule à moteur  2018-09-13  jour  30.0  294904.159001   \n1  Vol de véhicule à moteur  2018-04-30  jour  30.0  294904.159001   \n2  Vol de véhicule à moteur  2018-09-01  nuit   7.0  290274.565000   \n3                    Méfait  2017-07-21  jour  21.0            NaN   \n4                    Méfait  2017-07-29  jour  12.0            NaN   \n\n              Y  LONGITUDE   LATITUDE  \n0  5.047549e+06 -73.626778  45.567780  \n1  5.047549e+06 -73.626778  45.567780  \n2  5.042150e+06 -73.685928  45.519122  \n3           NaN        NaN        NaN  \n4           NaN        NaN        NaN  ",
      "text/html": "<div>\n<style scoped>\n    .dataframe tbody tr th:only-of-type {\n        vertical-align: middle;\n    }\n\n    .dataframe tbody tr th {\n        vertical-align: top;\n    }\n\n    .dataframe thead th {\n        text-align: right;\n    }\n</style>\n<table border=\"1\" class=\"dataframe\">\n  <thead>\n    <tr style=\"text-align: right;\">\n      <th></th>\n      <th>CATEGORIE</th>\n      <th>DATE</th>\n      <th>QUART</th>\n      <th>PDQ</th>\n      <th>X</th>\n      <th>Y</th>\n      <th>LONGITUDE</th>\n      <th>LATITUDE</th>\n    </tr>\n  </thead>\n  <tbody>\n    <tr>\n      <th>0</th>\n      <td>Vol de véhicule à moteur</td>\n      <td>2018-09-13</td>\n      <td>jour</td>\n      <td>30.0</td>\n      <td>294904.159001</td>\n      <td>5.047549e+06</td>\n      <td>-73.626778</td>\n      <td>45.567780</td>\n    </tr>\n    <tr>\n      <th>1</th>\n      <td>Vol de véhicule à moteur</td>\n      <td>2018-04-30</td>\n      <td>jour</td>\n      <td>30.0</td>\n      <td>294904.159001</td>\n      <td>5.047549e+06</td>\n      <td>-73.626778</td>\n      <td>45.567780</td>\n    </tr>\n    <tr>\n      <th>2</th>\n      <td>Vol de véhicule à moteur</td>\n      <td>2018-09-01</td>\n      <td>nuit</td>\n      <td>7.0</td>\n      <td>290274.565000</td>\n      <td>5.042150e+06</td>\n      <td>-73.685928</td>\n      <td>45.519122</td>\n    </tr>\n    <tr>\n      <th>3</th>\n      <td>Méfait</td>\n      <td>2017-07-21</td>\n      <td>jour</td>\n      <td>21.0</td>\n      <td>NaN</td>\n      <td>NaN</td>\n      <td>NaN</td>\n      <td>NaN</td>\n    </tr>\n    <tr>\n      <th>4</th>\n      <td>Méfait</td>\n      <td>2017-07-29</td>\n      <td>jour</td>\n      <td>12.0</td>\n      <td>NaN</td>\n      <td>NaN</td>\n      <td>NaN</td>\n      <td>NaN</td>\n    </tr>\n  </tbody>\n</table>\n</div>"
     },
     "execution_count": 11,
     "metadata": {},
     "output_type": "execute_result"
    }
   ],
   "source": [
    "df.head()"
   ],
   "metadata": {
    "collapsed": false,
    "ExecuteTime": {
     "start_time": "2023-04-15T11:48:58.755719Z",
     "end_time": "2023-04-15T11:48:58.764719Z"
    }
   }
  },
  {
   "cell_type": "code",
   "execution_count": 12,
   "outputs": [
    {
     "data": {
      "text/plain": "                 PDQ              X             Y      LONGITUDE  \\\ncount  247776.000000  205753.000000  2.057530e+05  205753.000000   \nmean       26.309610  295794.035138  5.043223e+06     -73.615263   \nstd        14.029531    6083.008112  6.068889e+03       0.077786   \nmin         1.000000  268109.610010  5.029291e+06     -73.968954   \n25%        15.000000  293900.976994  5.039088e+06     -73.639550   \n50%        26.000000  297338.250001  5.042868e+06     -73.595562   \n75%        39.000000  299665.903993  5.047185e+06     -73.565752   \nmax        55.000000  306389.863000  5.062496e+06     -73.479583   \n\n            LATITUDE  \ncount  205753.000000  \nmean       45.528836  \nstd         0.054660  \nmin        45.402691  \n25%        45.491491  \n50%        45.525665  \n75%        45.564512  \nmax        45.702351  ",
      "text/html": "<div>\n<style scoped>\n    .dataframe tbody tr th:only-of-type {\n        vertical-align: middle;\n    }\n\n    .dataframe tbody tr th {\n        vertical-align: top;\n    }\n\n    .dataframe thead th {\n        text-align: right;\n    }\n</style>\n<table border=\"1\" class=\"dataframe\">\n  <thead>\n    <tr style=\"text-align: right;\">\n      <th></th>\n      <th>PDQ</th>\n      <th>X</th>\n      <th>Y</th>\n      <th>LONGITUDE</th>\n      <th>LATITUDE</th>\n    </tr>\n  </thead>\n  <tbody>\n    <tr>\n      <th>count</th>\n      <td>247776.000000</td>\n      <td>205753.000000</td>\n      <td>2.057530e+05</td>\n      <td>205753.000000</td>\n      <td>205753.000000</td>\n    </tr>\n    <tr>\n      <th>mean</th>\n      <td>26.309610</td>\n      <td>295794.035138</td>\n      <td>5.043223e+06</td>\n      <td>-73.615263</td>\n      <td>45.528836</td>\n    </tr>\n    <tr>\n      <th>std</th>\n      <td>14.029531</td>\n      <td>6083.008112</td>\n      <td>6.068889e+03</td>\n      <td>0.077786</td>\n      <td>0.054660</td>\n    </tr>\n    <tr>\n      <th>min</th>\n      <td>1.000000</td>\n      <td>268109.610010</td>\n      <td>5.029291e+06</td>\n      <td>-73.968954</td>\n      <td>45.402691</td>\n    </tr>\n    <tr>\n      <th>25%</th>\n      <td>15.000000</td>\n      <td>293900.976994</td>\n      <td>5.039088e+06</td>\n      <td>-73.639550</td>\n      <td>45.491491</td>\n    </tr>\n    <tr>\n      <th>50%</th>\n      <td>26.000000</td>\n      <td>297338.250001</td>\n      <td>5.042868e+06</td>\n      <td>-73.595562</td>\n      <td>45.525665</td>\n    </tr>\n    <tr>\n      <th>75%</th>\n      <td>39.000000</td>\n      <td>299665.903993</td>\n      <td>5.047185e+06</td>\n      <td>-73.565752</td>\n      <td>45.564512</td>\n    </tr>\n    <tr>\n      <th>max</th>\n      <td>55.000000</td>\n      <td>306389.863000</td>\n      <td>5.062496e+06</td>\n      <td>-73.479583</td>\n      <td>45.702351</td>\n    </tr>\n  </tbody>\n</table>\n</div>"
     },
     "execution_count": 12,
     "metadata": {},
     "output_type": "execute_result"
    }
   ],
   "source": [
    "# Summarize the data\n",
    "df.describe()"
   ],
   "metadata": {
    "collapsed": false,
    "ExecuteTime": {
     "start_time": "2023-04-15T11:48:58.767764Z",
     "end_time": "2023-04-15T11:48:58.872760Z"
    }
   }
  },
  {
   "cell_type": "code",
   "execution_count": 13,
   "outputs": [
    {
     "data": {
      "text/plain": "Vol dans / sur véhicule à moteur    73160\nIntroduction                        61668\nMéfait                              54323\nVol de véhicule à moteur            44244\nVols qualifiés                      14156\nInfractions entrainant la mort        230\nName: CATEGORIE, dtype: int64"
     },
     "execution_count": 13,
     "metadata": {},
     "output_type": "execute_result"
    }
   ],
   "source": [
    "\n",
    "# What is the most common crime?\n",
    "df['CATEGORIE'].value_counts()"
   ],
   "metadata": {
    "collapsed": false,
    "ExecuteTime": {
     "start_time": "2023-04-15T11:48:58.829720Z",
     "end_time": "2023-04-15T11:48:58.874763Z"
    }
   }
  },
  {
   "cell_type": "code",
   "execution_count": 14,
   "outputs": [
    {
     "data": {
      "text/plain": "PDQ\n38.0    17496\n21.0    14549\n20.0    13805\n48.0    11958\n39.0    11304\n7.0     11250\n26.0    10663\n44.0     9995\n23.0     9633\n15.0     9411\n42.0     9363\n27.0     9083\n35.0     7920\n31.0     7572\n22.0     7564\n30.0     7203\n5.0      7017\n49.0     6427\n13.0     6322\n16.0     6050\n46.0     5779\n45.0     5310\n8.0      5290\n12.0     5149\n10.0     5100\n9.0      4529\n3.0      4527\n11.0     3890\n4.0      3163\n33.0     2952\n1.0      2850\n24.0     2532\n50.0     2028\n55.0       92\nName: CATEGORIE, dtype: int64"
     },
     "execution_count": 14,
     "metadata": {},
     "output_type": "execute_result"
    }
   ],
   "source": [
    "# Top 3 police precints (PDQ) got that most or least  crime complaints\n",
    "\n",
    "# Group by PDQ and count the number of crimes and sort by count\n",
    "df.groupby('PDQ')['CATEGORIE'].count().sort_values(ascending=False)"
   ],
   "metadata": {
    "collapsed": false,
    "ExecuteTime": {
     "start_time": "2023-04-15T11:48:58.860720Z",
     "end_time": "2023-04-15T11:48:58.949248Z"
    }
   }
  },
  {
   "cell_type": "code",
   "execution_count": 15,
   "outputs": [
    {
     "data": {
      "text/plain": "      count         min         max\nPDQ                                \n38.0  17496  2015-01-01  2023-03-09\n21.0  14549  2015-01-01  2023-03-09\n20.0  13805  2015-01-01  2023-03-09\n48.0  11958  2015-01-01  2023-03-09\n39.0  11304  2015-01-01  2023-03-09\n7.0   11250  2015-01-02  2023-03-09\n26.0  10663  2015-01-01  2023-03-09\n44.0   9995  2015-01-01  2023-03-09\n23.0   9633  2015-01-01  2023-03-09\n15.0   9411  2015-01-01  2023-03-09\n42.0   9363  2015-01-01  2023-03-09\n27.0   9083  2015-01-01  2023-03-09\n35.0   7920  2015-01-01  2023-03-09\n31.0   7572  2015-01-01  2023-03-08\n22.0   7564  2015-01-01  2023-03-09\n30.0   7203  2015-01-01  2023-03-09\n5.0    7017  2015-01-01  2023-03-09\n49.0   6427  2015-01-01  2023-03-09\n13.0   6322  2015-01-01  2023-03-08\n16.0   6050  2015-01-01  2023-03-09\n46.0   5779  2015-01-01  2023-03-08\n45.0   5310  2015-01-01  2023-03-09\n8.0    5290  2015-01-01  2023-03-09\n12.0   5149  2015-01-01  2023-03-09\n10.0   5100  2015-01-02  2023-03-08\n9.0    4529  2015-01-02  2023-03-09\n3.0    4527  2015-01-01  2023-03-08\n11.0   3890  2015-01-02  2019-12-27\n4.0    3163  2015-01-02  2023-03-09\n33.0   2952  2015-01-03  2021-12-29\n1.0    2850  2015-01-01  2023-03-08\n24.0   2532  2015-01-01  2018-12-31\n50.0   2028  2015-01-01  2023-03-08\n55.0     92  2015-01-02  2023-02-22",
      "text/html": "<div>\n<style scoped>\n    .dataframe tbody tr th:only-of-type {\n        vertical-align: middle;\n    }\n\n    .dataframe tbody tr th {\n        vertical-align: top;\n    }\n\n    .dataframe thead th {\n        text-align: right;\n    }\n</style>\n<table border=\"1\" class=\"dataframe\">\n  <thead>\n    <tr style=\"text-align: right;\">\n      <th></th>\n      <th>count</th>\n      <th>min</th>\n      <th>max</th>\n    </tr>\n    <tr>\n      <th>PDQ</th>\n      <th></th>\n      <th></th>\n      <th></th>\n    </tr>\n  </thead>\n  <tbody>\n    <tr>\n      <th>38.0</th>\n      <td>17496</td>\n      <td>2015-01-01</td>\n      <td>2023-03-09</td>\n    </tr>\n    <tr>\n      <th>21.0</th>\n      <td>14549</td>\n      <td>2015-01-01</td>\n      <td>2023-03-09</td>\n    </tr>\n    <tr>\n      <th>20.0</th>\n      <td>13805</td>\n      <td>2015-01-01</td>\n      <td>2023-03-09</td>\n    </tr>\n    <tr>\n      <th>48.0</th>\n      <td>11958</td>\n      <td>2015-01-01</td>\n      <td>2023-03-09</td>\n    </tr>\n    <tr>\n      <th>39.0</th>\n      <td>11304</td>\n      <td>2015-01-01</td>\n      <td>2023-03-09</td>\n    </tr>\n    <tr>\n      <th>7.0</th>\n      <td>11250</td>\n      <td>2015-01-02</td>\n      <td>2023-03-09</td>\n    </tr>\n    <tr>\n      <th>26.0</th>\n      <td>10663</td>\n      <td>2015-01-01</td>\n      <td>2023-03-09</td>\n    </tr>\n    <tr>\n      <th>44.0</th>\n      <td>9995</td>\n      <td>2015-01-01</td>\n      <td>2023-03-09</td>\n    </tr>\n    <tr>\n      <th>23.0</th>\n      <td>9633</td>\n      <td>2015-01-01</td>\n      <td>2023-03-09</td>\n    </tr>\n    <tr>\n      <th>15.0</th>\n      <td>9411</td>\n      <td>2015-01-01</td>\n      <td>2023-03-09</td>\n    </tr>\n    <tr>\n      <th>42.0</th>\n      <td>9363</td>\n      <td>2015-01-01</td>\n      <td>2023-03-09</td>\n    </tr>\n    <tr>\n      <th>27.0</th>\n      <td>9083</td>\n      <td>2015-01-01</td>\n      <td>2023-03-09</td>\n    </tr>\n    <tr>\n      <th>35.0</th>\n      <td>7920</td>\n      <td>2015-01-01</td>\n      <td>2023-03-09</td>\n    </tr>\n    <tr>\n      <th>31.0</th>\n      <td>7572</td>\n      <td>2015-01-01</td>\n      <td>2023-03-08</td>\n    </tr>\n    <tr>\n      <th>22.0</th>\n      <td>7564</td>\n      <td>2015-01-01</td>\n      <td>2023-03-09</td>\n    </tr>\n    <tr>\n      <th>30.0</th>\n      <td>7203</td>\n      <td>2015-01-01</td>\n      <td>2023-03-09</td>\n    </tr>\n    <tr>\n      <th>5.0</th>\n      <td>7017</td>\n      <td>2015-01-01</td>\n      <td>2023-03-09</td>\n    </tr>\n    <tr>\n      <th>49.0</th>\n      <td>6427</td>\n      <td>2015-01-01</td>\n      <td>2023-03-09</td>\n    </tr>\n    <tr>\n      <th>13.0</th>\n      <td>6322</td>\n      <td>2015-01-01</td>\n      <td>2023-03-08</td>\n    </tr>\n    <tr>\n      <th>16.0</th>\n      <td>6050</td>\n      <td>2015-01-01</td>\n      <td>2023-03-09</td>\n    </tr>\n    <tr>\n      <th>46.0</th>\n      <td>5779</td>\n      <td>2015-01-01</td>\n      <td>2023-03-08</td>\n    </tr>\n    <tr>\n      <th>45.0</th>\n      <td>5310</td>\n      <td>2015-01-01</td>\n      <td>2023-03-09</td>\n    </tr>\n    <tr>\n      <th>8.0</th>\n      <td>5290</td>\n      <td>2015-01-01</td>\n      <td>2023-03-09</td>\n    </tr>\n    <tr>\n      <th>12.0</th>\n      <td>5149</td>\n      <td>2015-01-01</td>\n      <td>2023-03-09</td>\n    </tr>\n    <tr>\n      <th>10.0</th>\n      <td>5100</td>\n      <td>2015-01-02</td>\n      <td>2023-03-08</td>\n    </tr>\n    <tr>\n      <th>9.0</th>\n      <td>4529</td>\n      <td>2015-01-02</td>\n      <td>2023-03-09</td>\n    </tr>\n    <tr>\n      <th>3.0</th>\n      <td>4527</td>\n      <td>2015-01-01</td>\n      <td>2023-03-08</td>\n    </tr>\n    <tr>\n      <th>11.0</th>\n      <td>3890</td>\n      <td>2015-01-02</td>\n      <td>2019-12-27</td>\n    </tr>\n    <tr>\n      <th>4.0</th>\n      <td>3163</td>\n      <td>2015-01-02</td>\n      <td>2023-03-09</td>\n    </tr>\n    <tr>\n      <th>33.0</th>\n      <td>2952</td>\n      <td>2015-01-03</td>\n      <td>2021-12-29</td>\n    </tr>\n    <tr>\n      <th>1.0</th>\n      <td>2850</td>\n      <td>2015-01-01</td>\n      <td>2023-03-08</td>\n    </tr>\n    <tr>\n      <th>24.0</th>\n      <td>2532</td>\n      <td>2015-01-01</td>\n      <td>2018-12-31</td>\n    </tr>\n    <tr>\n      <th>50.0</th>\n      <td>2028</td>\n      <td>2015-01-01</td>\n      <td>2023-03-08</td>\n    </tr>\n    <tr>\n      <th>55.0</th>\n      <td>92</td>\n      <td>2015-01-02</td>\n      <td>2023-02-22</td>\n    </tr>\n  </tbody>\n</table>\n</div>"
     },
     "execution_count": 15,
     "metadata": {},
     "output_type": "execute_result"
    }
   ],
   "source": [
    "# Top 3 police precints (PDQ) got that most or least  crime complaints\n",
    "# Group by PDQ and count the number of crimes and sort by count and list the time range of the crimes\n",
    "df.groupby('PDQ')['DATE'].agg(['count', 'min', 'max']).sort_values(by='count', ascending=False)\n"
   ],
   "metadata": {
    "collapsed": false,
    "ExecuteTime": {
     "start_time": "2023-04-15T11:48:58.891720Z",
     "end_time": "2023-04-15T11:48:59.058692Z"
    }
   }
  },
  {
   "cell_type": "code",
   "execution_count": 16,
   "outputs": [
    {
     "data": {
      "text/plain": "PDQ   CATEGORIE                       \n1.0   Introduction                         857\n3.0   Introduction                        1362\n4.0   Vol dans / sur véhicule à moteur     980\n5.0   Vol dans / sur véhicule à moteur    2098\n7.0   Vol de véhicule à moteur            3534\n8.0   Introduction                        1468\n9.0   Vol dans / sur véhicule à moteur    1172\n10.0  Vol dans / sur véhicule à moteur    1508\n11.0  Méfait                              1285\n12.0  Vol dans / sur véhicule à moteur    1579\n13.0  Méfait                              1682\n15.0  Introduction                        2822\n16.0  Introduction                        1824\n20.0  Vol dans / sur véhicule à moteur    7689\n21.0  Vol dans / sur véhicule à moteur    6932\n22.0  Introduction                        2449\n23.0  Introduction                        3236\n24.0  Introduction                         893\n26.0  Introduction                        2949\n27.0  Vol dans / sur véhicule à moteur    2443\n30.0  Vol dans / sur véhicule à moteur    2146\n31.0  Vol dans / sur véhicule à moteur    2159\n33.0  Vol dans / sur véhicule à moteur     900\n35.0  Introduction                        2597\n38.0  Introduction                        6474\n39.0  Vol de véhicule à moteur            3012\n42.0  Vol dans / sur véhicule à moteur    2962\n44.0  Introduction                        2892\n45.0  Vol de véhicule à moteur            1703\n46.0  Vol dans / sur véhicule à moteur    1973\n48.0  Vol dans / sur véhicule à moteur    3175\n49.0  Vol dans / sur véhicule à moteur    1716\n50.0  Méfait                              1552\n55.0  Méfait                                32\nName: CATEGORIE, dtype: int64"
     },
     "execution_count": 16,
     "metadata": {},
     "output_type": "execute_result"
    }
   ],
   "source": [
    "#\n"
   ],
   "metadata": {
    "collapsed": false,
    "ExecuteTime": {
     "start_time": "2023-04-15T11:52:46.543718Z",
     "end_time": "2023-04-15T11:52:46.631716Z"
    }
   }
  },
  {
   "cell_type": "code",
   "execution_count": null,
   "outputs": [],
   "source": [],
   "metadata": {
    "collapsed": false
   }
  }
 ],
 "metadata": {
  "kernelspec": {
   "display_name": "base",
   "language": "python",
   "name": "python3"
  },
  "language_info": {
   "codemirror_mode": {
    "name": "ipython",
    "version": 3
   },
   "file_extension": ".py",
   "mimetype": "text/x-python",
   "name": "python",
   "nbconvert_exporter": "python",
   "pygments_lexer": "ipython3",
   "version": "3.9.13"
  },
  "orig_nbformat": 4
 },
 "nbformat": 4,
 "nbformat_minor": 2
}
